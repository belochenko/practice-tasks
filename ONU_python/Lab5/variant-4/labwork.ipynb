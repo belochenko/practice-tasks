{
 "cells": [
  {
   "cell_type": "code",
   "execution_count": 7,
   "metadata": {
    "collapsed": true
   },
   "outputs": [],
   "source": [
    "import sympy.plotting as plt\n",
    "import sympy as sp"
   ]
  },
  {
   "cell_type": "code",
   "execution_count": 8,
   "metadata": {
    "pycharm": {
     "name": "#%%\n"
    }
   },
   "outputs": [
    {
     "data": {
      "text/plain": "630063377.066667",
      "text/latex": "$\\displaystyle 630063377.066667$"
     },
     "execution_count": 8,
     "metadata": {},
     "output_type": "execute_result"
    }
   ],
   "source": [
    "# task 1\n",
    "a = sp.Symbol('a', real=True)\n",
    "y = sp.simplify( sp.sqrt((a ** 3 - 6 * a ** 2 + 12 * a - 8) * (a ** 2 - 5) * (a + 1)) ** 4) / ((a ** 2 - 4 * a + 3) / (sp.sqrt(a + 1) ** 4) )\n",
    "res = y.evalf(subs={a:6})\n",
    "res"
   ]
  },
  {
   "cell_type": "code",
   "execution_count": 9,
   "outputs": [
    {
     "data": {
      "text/plain": "[(-log(2) + log(1 + sqrt(5)))/(2*log(e)),\n -(log(-2/(1 - sqrt(5))) + I*pi)/(2*log(e)),\n (-log(2) + log(-1 + sqrt(5)) + I*pi)/(2*log(e)),\n (-log(2) + log(1 + sqrt(5)) + 2*I*pi)/(2*log(e))]"
     },
     "execution_count": 9,
     "metadata": {},
     "output_type": "execute_result"
    }
   ],
   "source": [
    "#task 2\n",
    "e, x = sp.symbols(\"e x\")\n",
    "res = sp.solve(e ** (4 * x) - e ** (2 * x) - 1, x)\n",
    "res"
   ],
   "metadata": {
    "collapsed": false,
    "pycharm": {
     "name": "#%%\n"
    }
   }
  },
  {
   "cell_type": "code",
   "execution_count": 10,
   "outputs": [
    {
     "data": {
      "text/plain": "[{x: 1, y: -I, z: I},\n {x: 1, y: I, z: -I},\n {x: -I, y: 1, z: I},\n {x: -I, y: I, z: 1},\n {x: I, y: 1, z: -I},\n {x: I, y: -I, z: 1}]"
     },
     "execution_count": 10,
     "metadata": {},
     "output_type": "execute_result"
    }
   ],
   "source": [
    "#task 3\n",
    "x, y, z = sp.symbols('x y z')\n",
    "\n",
    "equation = [\n",
    "    sp.Eq(x+ y+ z, 1),\n",
    "    sp.Eq(x * y + y * z + z * x, 1),\n",
    "    sp.Eq(x * y * z, 1)\n",
    "]\n",
    "res = sp.solve(equation)\n",
    "res"
   ],
   "metadata": {
    "collapsed": false,
    "pycharm": {
     "name": "#%%\n"
    }
   }
  },
  {
   "cell_type": "code",
   "execution_count": 11,
   "outputs": [
    {
     "data": {
      "text/plain": "-oo*sign(a**(n - 1)*n)",
      "text/latex": "$\\displaystyle - \\infty \\operatorname{sign}{\\left(a^{n - 1} n \\right)}$"
     },
     "execution_count": 11,
     "metadata": {},
     "output_type": "execute_result"
    }
   ],
   "source": [
    "#task 4\n",
    "x, a, n = sp.symbols('x a n')\n",
    "f = (x ** n - a ** n) - (n * a ** (n - 1) * (x - a)) / (x - a) ** 2\n",
    "res = sp.limit(f, x, a)\n",
    "res"
   ],
   "metadata": {
    "collapsed": false,
    "pycharm": {
     "name": "#%%\n"
    }
   }
  },
  {
   "cell_type": "code",
   "execution_count": 12,
   "outputs": [
    {
     "data": {
      "text/plain": "pi/2",
      "text/latex": "$\\displaystyle \\frac{\\pi}{2}$"
     },
     "execution_count": 12,
     "metadata": {},
     "output_type": "execute_result"
    }
   ],
   "source": [
    "#task 5\n",
    "x = sp.Symbol('x')\n",
    "f = sp.atan(1 / (1 - x))\n",
    "res = sp.limit(f, x, 1, dir='-')\n",
    "res"
   ],
   "metadata": {
    "collapsed": false,
    "pycharm": {
     "name": "#%%\n"
    }
   }
  },
  {
   "cell_type": "code",
   "execution_count": 13,
   "metadata": {},
   "outputs": [
    {
     "name": "stdout",
     "output_type": "stream",
     "text": [
      "df/dx = 3*x**2 - y\n",
      "df/dy = -x\n",
      "Gradient of function f = (3*x**2 - y)i + (-x)j\n",
      "Gradient of function f at point M(1; 1) = (2)i + (-1)j\n",
      "|grad(f)| = sqrt(5)\n",
      "Gradient of function f at point M(1; 1) in the direction of the vector a(-1; 4) = -6*sqrt(17)/17\n",
      "Function f decreases in a direction of vector a(-1; 4)\n"
     ]
    }
   ],
   "source": [
    "#task 6\n",
    "x, y = sp.symbols('x y')\n",
    "f = x ** 3 - x * y\n",
    "grad1 = f.diff(x)\n",
    "grad2 = f.diff(y)\n",
    "res1 = int(grad1.evalf(subs={x:1, y:1}))\n",
    "res2 = int(grad2.evalf(subs={x:1, y:1}))\n",
    "final_res = sp.sqrt(res1 ** 2 + res2 ** 2)\n",
    "print(f'df/dx = {grad1}')\n",
    "print(f'df/dy = {grad2}')\n",
    "print(f'Gradient of function f = ({grad1})i + ({grad2})j')\n",
    "print(f'Gradient of function f at point M(1; 1) = ({res1})i + ({res2})j')\n",
    "print(f'|grad(f)| = {final_res}')\n",
    "\n",
    "a = sp.sqrt((-1) ** 2 + (4) ** 2)\n",
    "cosA = (-1) / a\n",
    "cosB = (4) / a\n",
    "res_f = res1 * cosA + res2 * cosB\n",
    "print(f'Gradient of function f at point M(1; 1) in the direction of the vector a(-1; 4) = {res_f}')\n",
    "\n",
    "if res_f > 0:\n",
    "    print('Function f increases in a direction of vector a(-1; 4)')\n",
    "elif res_f < 0:\n",
    "    print('Function f decreases in a direction of vector a(-1; 4)')"
   ]
  },
  {
   "cell_type": "code",
   "execution_count": 14,
   "metadata": {},
   "outputs": [
    {
     "name": "stdout",
     "output_type": "stream",
     "text": [
      "df/dx = sqrt(x*y)*(4*x**2 - 1)*exp(x**2 + y**2)/(2*x**2*y)\n",
      "df/dy = sqrt(x*y)*(4*y**2 - 1)*exp(x**2 + y**2)/(2*x*y**2)\n",
      "d^2f/dx^2 = (16*x**4 + 3)*exp(x**2 + y**2)/(4*x**2*sqrt(x*y))\n",
      "d^2f/dy^2 = (16*y**4 + 3)*exp(x**2 + y**2)/(4*y**2*sqrt(x*y))\n"
     ]
    }
   ],
   "source": [
    "#task 7\n",
    "x, y = sp.symbols('x y')\n",
    "f = sp.exp(x ** 2 + y ** 2) / sp.sqrt(x * y)\n",
    "res1 = f.diff(x)\n",
    "res2 = f.diff(y)\n",
    "res3 = f.diff(x, 2)\n",
    "res4 = f.diff(y, 2)\n",
    "print(f'df/dx = {sp.simplify(res1)}')\n",
    "print(f'df/dy = {sp.simplify(res2)}')\n",
    "print(f'd^2f/dx^2 = {sp.simplify(res3)}')\n",
    "print(f'd^2f/dy^2 = {sp.simplify(res4)}')"
   ]
  },
  {
   "cell_type": "code",
   "execution_count": 16,
   "metadata": {},
   "outputs": [
    {
     "data": {
      "text/plain": "Eq(y(x), (C1*sin(sqrt(3)*x/2) + C2*cos(sqrt(3)*x/2))*exp(-x/2) + (C3 + x**2/6 - x/3)*exp(x))",
      "text/latex": "$\\displaystyle y{\\left(x \\right)} = \\left(C_{1} \\sin{\\left(\\frac{\\sqrt{3} x}{2} \\right)} + C_{2} \\cos{\\left(\\frac{\\sqrt{3} x}{2} \\right)}\\right) e^{- \\frac{x}{2}} + \\left(C_{3} + \\frac{x^{2}}{6} - \\frac{x}{3}\\right) e^{x}$"
     },
     "execution_count": 16,
     "metadata": {},
     "output_type": "execute_result"
    }
   ],
   "source": [
    "#task 8\n",
    "x = sp.symbols('x')\n",
    "y = sp.Function('y')\n",
    "f = y(x).diff(x, 3) - y(x) - x * sp.exp(x)\n",
    "sp.dsolve(f, y(x))"
   ]
  },
  {
   "cell_type": "code",
   "execution_count": 17,
   "metadata": {},
   "outputs": [
    {
     "data": {
      "text/plain": "(a*(t - x)**2*((t - x)**2)**(3*a/2) - a*((t - x)**2)**(a/2) - (a + 1)*((t - x)**2)**a)*((t - x)**2)**(-3*a/2)*exp(((t - x)**2)**(-a/2))/(2*(t - x)**2)",
      "text/latex": "$\\displaystyle \\frac{\\left(a \\left(t - x\\right)^{2} \\left(\\left(t - x\\right)^{2}\\right)^{\\frac{3 a}{2}} - a \\left(\\left(t - x\\right)^{2}\\right)^{\\frac{a}{2}} - \\left(a + 1\\right) \\left(\\left(t - x\\right)^{2}\\right)^{a}\\right) \\left(\\left(t - x\\right)^{2}\\right)^{- \\frac{3 a}{2}} e^{\\left(\\left(t - x\\right)^{2}\\right)^{- \\frac{a}{2}}}}{2 \\left(t - x\\right)^{2}}$"
     },
     "execution_count": 17,
     "metadata": {},
     "output_type": "execute_result"
    }
   ],
   "source": [
    "#task 9\n",
    "a, x, t = sp.symbols('a x t')\n",
    "u = (-1) / (2 * a) * sp.exp(sp.sqrt((x - t) ** 2) ** -a)\n",
    "res = sp.simplify(u.diff(x, 2) - a ** 2 * u)\n",
    "res"
   ]
  },
  {
   "cell_type": "code",
   "execution_count": 19,
   "outputs": [
    {
     "data": {
      "text/plain": "x**2/2 + x - 9*log(x**2 - x + 10)/2 - 29*sqrt(39)*atan(2*sqrt(39)*x/39 - sqrt(39)/39)/39",
      "text/latex": "$\\displaystyle \\frac{x^{2}}{2} + x - \\frac{9 \\log{\\left(x^{2} - x + 10 \\right)}}{2} - \\frac{29 \\sqrt{39} \\operatorname{atan}{\\left(\\frac{2 \\sqrt{39} x}{39} - \\frac{\\sqrt{39}}{39} \\right)}}{39}$"
     },
     "execution_count": 19,
     "metadata": {},
     "output_type": "execute_result"
    }
   ],
   "source": [
    "#task 10\n",
    "x = sp.Symbol('x')\n",
    "f = x ** 3 / (x ** 2 - x + 10)\n",
    "res1 = sp.integrate(f, x)\n",
    "res1"
   ],
   "metadata": {
    "collapsed": false,
    "pycharm": {
     "name": "#%%\n"
    }
   }
  },
  {
   "cell_type": "code",
   "execution_count": 20,
   "outputs": [
    {
     "data": {
      "text/plain": "x**3/(x**2 - x + 10)",
      "text/latex": "$\\displaystyle \\frac{x^{3}}{x^{2} - x + 10}$"
     },
     "execution_count": 20,
     "metadata": {},
     "output_type": "execute_result"
    }
   ],
   "source": [
    "res2 = sp.simplify(sp.diff(res1))\n",
    "res2"
   ],
   "metadata": {
    "collapsed": false,
    "pycharm": {
     "name": "#%%\n"
    }
   }
  },
  {
   "cell_type": "code",
   "execution_count": 21,
   "outputs": [
    {
     "data": {
      "text/plain": "-3/4 + exp(2)/4",
      "text/latex": "$\\displaystyle - \\frac{3}{4} + \\frac{e^{2}}{4}$"
     },
     "execution_count": 21,
     "metadata": {},
     "output_type": "execute_result"
    }
   ],
   "source": [
    "#task 11\n",
    "x = sp.Symbol('x')\n",
    "f = x ** 4 * sp.exp(2 * x)\n",
    "res = sp.integrate(f, (x, 0, 1))\n",
    "res"
   ],
   "metadata": {
    "collapsed": false,
    "pycharm": {
     "name": "#%%\n"
    }
   }
  },
  {
   "cell_type": "code",
   "execution_count": 22,
   "outputs": [
    {
     "data": {
      "text/plain": "<Figure size 432x288 with 1 Axes>",
      "image/png": "[encoded data removed]"
     },
     "metadata": {
      "needs_background": "light"
     },
     "output_type": "display_data"
    },
    {
     "data": {
      "text/plain": "<sympy.plotting.plot.Plot at 0x109ac718>"
     },
     "execution_count": 22,
     "metadata": {},
     "output_type": "execute_result"
    }
   ],
   "source": [
    "#task 12\n",
    "u, v = sp.symbols('u v')\n",
    "\n",
    "x1 = 8 + (3 + sp.cos(v)) * sp.cos(u)\n",
    "y1 = 3 + sp.sin(v)\n",
    "z1 = 4 + (3 + sp.cos(v)) * sp.sin(u)\n",
    "\n",
    "x2 = 0.4 + (0.3 + sp.cos(v)) * sp.cos(u)\n",
    "y2 = 0.4 + sp.sin(v)\n",
    "z2 = 0.4 + (0.3 + sp.cos(v)) * sp.sin(u)\n",
    "\n",
    "plt.plot3d_parametric_surface((x1, y1, z1, (u, 0, 2*sp.pi), (v, 0, 2*sp.pi)), (x2, y2, z2, (u, 0, 2*sp.pi), (v, 0, 2*sp.pi)))\n"
   ],
   "metadata": {
    "collapsed": false,
    "pycharm": {
     "name": "#%%\n"
    }
   }
  }
 ],
 "metadata": {
  "kernelspec": {
   "display_name": "Python 3",
   "language": "python",
   "name": "python3"
  },
  "language_info": {
   "codemirror_mode": {
    "name": "ipython",
    "version": 3
   },
   "file_extension": ".py",
   "mimetype": "text/x-python",
   "name": "python",
   "nbconvert_exporter": "python",
   "pygments_lexer": "ipython3",
   "version": "3.8.5"
  }
 },
 "nbformat": 4,
 "nbformat_minor": 1
}