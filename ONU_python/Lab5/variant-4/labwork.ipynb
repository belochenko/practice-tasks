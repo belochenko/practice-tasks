{
 "cells": [
  {
   "cell_type": "code",
   "execution_count": 5,
   "metadata": {
    "collapsed": true
   },
   "outputs": [],
   "source": [
    "import sympy as sp"
   ]
  },
  {
   "cell_type": "code",
   "execution_count": 11,
   "metadata": {
    "pycharm": {
     "name": "#%%\n"
    }
   },
   "outputs": [],
   "source": [
    "# task 1\n",
    "a = sp.Symbol('a', real=True)\n",
    "y = sp.simplify(\n",
    "    sp.sqrt((a ** 3 - 6 * a ** 2 + 12 * a - 8) * (a ** 2 - 5) * (a - 1)) ** 4 / ((a ** 2 - 4 * a + 3) / sp.sqrt(a + 1) ** 4))"
   ]
  },
  {
   "cell_type": "code",
   "execution_count": null,
   "outputs": [],
   "source": [
    "y"
   ],
   "metadata": {
    "collapsed": false,
    "pycharm": {
     "name": "#%%\n"
    }
   }
  },
  {
   "cell_type": "code",
   "execution_count": null,
   "outputs": [],
   "source": [
    "y.evalf(subs={a:-1})"
   ],
   "metadata": {
    "collapsed": false,
    "pycharm": {
     "name": "#%%\n"
    }
   }
  },
  {
   "cell_type": "code",
   "execution_count": null,
   "outputs": [],
   "source": [
    "sp.solve(sp.simplify(sp.sin(x) ** 5 + sp.cos(x) ** 5 - 0.5, real=True))"
   ],
   "metadata": {
    "collapsed": false,
    "pycharm": {
     "name": "#%%\n"
    }
   }
  },
  {
   "cell_type": "code",
   "execution_count": null,
   "outputs": [],
   "source": [],
   "metadata": {
    "collapsed": false,
    "pycharm": {
     "name": "#%%\n"
    }
   }
  },
  {
   "cell_type": "code",
   "execution_count": 14,
   "metadata": {},
   "outputs": [
    {
     "data": {
      "text/latex": [
       "$\\displaystyle \\frac{\\left(a - 1\\right)^{2} \\left(a + 1\\right)^{2} \\left(a^{2} - 5\\right)^{2} \\left(a^{3} - 6 a^{2} + 12 a - 8\\right)^{2}}{a^{2} - 4 a + 3}$"
      ],
      "text/plain": [
       "(a - 1)**2*(a + 1)**2*(a**2 - 5)**2*(a**3 - 6*a**2 + 12*a - 8)**2/(a**2 - 4*a + 3)"
      ]
     },
     "execution_count": 14,
     "metadata": {},
     "output_type": "execute_result"
    }
   ],
   "source": []
  },
  {
   "cell_type": "code",
   "execution_count": 20,
   "metadata": {},
   "outputs": [
    {
     "data": {
      "text/latex": [
       "$\\displaystyle 4.31222521857789 \\cdot 10^{-269}$"
      ],
      "text/plain": [
       "4.31222521857789e-269"
      ]
     },
     "execution_count": 20,
     "metadata": {},
     "output_type": "execute_result"
    }
   ],
   "source": [
    "y.evalf(subs={a:-1})"
   ]
  },
  {
   "cell_type": "code",
   "execution_count": 39,
   "metadata": {},
   "outputs": [
    {
     "data": {
      "text/plain": [
       "[-0.497091353799242,\n",
       " 0.540108035443536,\n",
       " 1.03068829135136,\n",
       " 2.06788768059414,\n",
       " -2.35619449019234 - 0.48247849391876*I,\n",
       " -2.35619449019234 + 0.48247849391876*I,\n",
       " -0.831765514027434 - 0.929634863586054*I,\n",
       " -0.831765514027434 + 0.929634863586054*I,\n",
       " 2.40256184082233 - 0.929634863586054*I,\n",
       " 2.40256184082233 + 0.929634863586054*I]"
      ]
     },
     "execution_count": 39,
     "metadata": {},
     "output_type": "execute_result"
    }
   ],
   "source": [
    "sp.solve(sp.simplify(sp.sin(x) ** 5 + sp.cos(x) ** 5 - 0.5, real=True))"
   ]
  },
  {
   "cell_type": "code",
   "execution_count": null,
   "metadata": {},
   "outputs": [],
   "source": []
  }
 ],
 "metadata": {
  "kernelspec": {
   "display_name": "Python 3",
   "language": "python",
   "name": "python3"
  },
  "language_info": {
   "codemirror_mode": {
    "name": "ipython",
    "version": 3
   },
   "file_extension": ".py",
   "mimetype": "text/x-python",
   "name": "python",
   "nbconvert_exporter": "python",
   "pygments_lexer": "ipython3",
   "version": "3.8.5"
  }
 },
 "nbformat": 4,
 "nbformat_minor": 1
}