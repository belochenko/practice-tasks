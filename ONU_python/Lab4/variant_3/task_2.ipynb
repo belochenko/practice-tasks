{
 "cells": [
  {
   "cell_type": "code",
   "execution_count": 73,
   "metadata": {
    "pycharm": {
     "name": "#%%\n"
    }
   },
   "outputs": [
    {
     "data": {
      "text/plain": "                     Adress        Tenant  AverageIncome Debts  Rent\n0                 Gogol_3_2  Ponomarov VD           5000   yes  1500\n1                 Gogol_3_3  Ponomarov AD           4500    no  2000\n2                 Gogol_3_4    Ulanova TI           3200    no  1200\n3                 Gogol_3_5   Budanova AI           6700    no  2100\n4                 Gogol_3_6    Komarov II           8100   yes  1800\n5                 Gogol_3_7    Komarov DP           4900    no  1000\n6          Grecheskaya_1_45   Abramyan LL           5100   yes   900\n7             Korolova_2_56     Ivanov II           2900   yes   800\n8             Korolova_2_57     Ivanov PI           7800    no  1300\n9             Korolova_2_58    Shatrov IV           6400   yes  1600\n10            Korolova_2_59     Petrov MM          10000    no  2300\n11            Korolova_2_60    Sidorov VK           4400    no  1900\n12            Korolova_2_61  Sidorchyk KM           5750    no  1600\n13  Malaya Arnautskaya_23_6      Kogan MG           6100   yes  1700\n14  Malaya Arnautskaya_23_7  Polyakova MO           5200    no  1400",
      "text/html": "<div>\n<style scoped>\n    .dataframe tbody tr th:only-of-type {\n        vertical-align: middle;\n    }\n\n    .dataframe tbody tr th {\n        vertical-align: top;\n    }\n\n    .dataframe thead th {\n        text-align: right;\n    }\n</style>\n<table border=\"1\" class=\"dataframe\">\n  <thead>\n    <tr style=\"text-align: right;\">\n      <th></th>\n      <th>Adress</th>\n      <th>Tenant</th>\n      <th>AverageIncome</th>\n      <th>Debts</th>\n      <th>Rent</th>\n    </tr>\n  </thead>\n  <tbody>\n    <tr>\n      <th>0</th>\n      <td>Gogol_3_2</td>\n      <td>Ponomarov VD</td>\n      <td>5000</td>\n      <td>yes</td>\n      <td>1500</td>\n    </tr>\n    <tr>\n      <th>1</th>\n      <td>Gogol_3_3</td>\n      <td>Ponomarov AD</td>\n      <td>4500</td>\n      <td>no</td>\n      <td>2000</td>\n    </tr>\n    <tr>\n      <th>2</th>\n      <td>Gogol_3_4</td>\n      <td>Ulanova TI</td>\n      <td>3200</td>\n      <td>no</td>\n      <td>1200</td>\n    </tr>\n    <tr>\n      <th>3</th>\n      <td>Gogol_3_5</td>\n      <td>Budanova AI</td>\n      <td>6700</td>\n      <td>no</td>\n      <td>2100</td>\n    </tr>\n    <tr>\n      <th>4</th>\n      <td>Gogol_3_6</td>\n      <td>Komarov II</td>\n      <td>8100</td>\n      <td>yes</td>\n      <td>1800</td>\n    </tr>\n    <tr>\n      <th>5</th>\n      <td>Gogol_3_7</td>\n      <td>Komarov DP</td>\n      <td>4900</td>\n      <td>no</td>\n      <td>1000</td>\n    </tr>\n    <tr>\n      <th>6</th>\n      <td>Grecheskaya_1_45</td>\n      <td>Abramyan LL</td>\n      <td>5100</td>\n      <td>yes</td>\n      <td>900</td>\n    </tr>\n    <tr>\n      <th>7</th>\n      <td>Korolova_2_56</td>\n      <td>Ivanov II</td>\n      <td>2900</td>\n      <td>yes</td>\n      <td>800</td>\n    </tr>\n    <tr>\n      <th>8</th>\n      <td>Korolova_2_57</td>\n      <td>Ivanov PI</td>\n      <td>7800</td>\n      <td>no</td>\n      <td>1300</td>\n    </tr>\n    <tr>\n      <th>9</th>\n      <td>Korolova_2_58</td>\n      <td>Shatrov IV</td>\n      <td>6400</td>\n      <td>yes</td>\n      <td>1600</td>\n    </tr>\n    <tr>\n      <th>10</th>\n      <td>Korolova_2_59</td>\n      <td>Petrov MM</td>\n      <td>10000</td>\n      <td>no</td>\n      <td>2300</td>\n    </tr>\n    <tr>\n      <th>11</th>\n      <td>Korolova_2_60</td>\n      <td>Sidorov VK</td>\n      <td>4400</td>\n      <td>no</td>\n      <td>1900</td>\n    </tr>\n    <tr>\n      <th>12</th>\n      <td>Korolova_2_61</td>\n      <td>Sidorchyk KM</td>\n      <td>5750</td>\n      <td>no</td>\n      <td>1600</td>\n    </tr>\n    <tr>\n      <th>13</th>\n      <td>Malaya Arnautskaya_23_6</td>\n      <td>Kogan MG</td>\n      <td>6100</td>\n      <td>yes</td>\n      <td>1700</td>\n    </tr>\n    <tr>\n      <th>14</th>\n      <td>Malaya Arnautskaya_23_7</td>\n      <td>Polyakova MO</td>\n      <td>5200</td>\n      <td>no</td>\n      <td>1400</td>\n    </tr>\n  </tbody>\n</table>\n</div>"
     },
     "execution_count": 73,
     "metadata": {},
     "output_type": "execute_result"
    }
   ],
   "source": [
    "import pandas as pd\n",
    "import numpy as np\n",
    "df = pd.read_excel('filter3.xlsx')\n",
    "df"
   ]
  },
  {
   "cell_type": "code",
   "execution_count": 74,
   "metadata": {
    "pycharm": {
     "name": "#%%\n"
    },
    "scrolled": true
   },
   "outputs": [
    {
     "data": {
      "text/plain": "                     Adress        Tenant  AverageIncome Debts  Rent  Subsidy\n0                 Gogol_3_2  Ponomarov VD           5000   yes  1500      0.0\n1                 Gogol_3_3  Ponomarov AD           4500    no  2000    200.0\n2                 Gogol_3_4    Ulanova TI           3200    no  1200    120.0\n3                 Gogol_3_5   Budanova AI           6700    no  2100    210.0\n4                 Gogol_3_6    Komarov II           8100   yes  1800      0.0\n5                 Gogol_3_7    Komarov DP           4900    no  1000    100.0\n6          Grecheskaya_1_45   Abramyan LL           5100   yes   900      0.0\n7             Korolova_2_56     Ivanov II           2900   yes   800      0.0\n8             Korolova_2_57     Ivanov PI           7800    no  1300    130.0\n9             Korolova_2_58    Shatrov IV           6400   yes  1600      0.0\n10            Korolova_2_59     Petrov MM          10000    no  2300    230.0\n11            Korolova_2_60    Sidorov VK           4400    no  1900    190.0\n12            Korolova_2_61  Sidorchyk KM           5750    no  1600    160.0\n13  Malaya Arnautskaya_23_6      Kogan MG           6100   yes  1700      0.0\n14  Malaya Arnautskaya_23_7  Polyakova MO           5200    no  1400    140.0",
      "text/html": "<div>\n<style scoped>\n    .dataframe tbody tr th:only-of-type {\n        vertical-align: middle;\n    }\n\n    .dataframe tbody tr th {\n        vertical-align: top;\n    }\n\n    .dataframe thead th {\n        text-align: right;\n    }\n</style>\n<table border=\"1\" class=\"dataframe\">\n  <thead>\n    <tr style=\"text-align: right;\">\n      <th></th>\n      <th>Adress</th>\n      <th>Tenant</th>\n      <th>AverageIncome</th>\n      <th>Debts</th>\n      <th>Rent</th>\n      <th>Subsidy</th>\n    </tr>\n  </thead>\n  <tbody>\n    <tr>\n      <th>0</th>\n      <td>Gogol_3_2</td>\n      <td>Ponomarov VD</td>\n      <td>5000</td>\n      <td>yes</td>\n      <td>1500</td>\n      <td>0.0</td>\n    </tr>\n    <tr>\n      <th>1</th>\n      <td>Gogol_3_3</td>\n      <td>Ponomarov AD</td>\n      <td>4500</td>\n      <td>no</td>\n      <td>2000</td>\n      <td>200.0</td>\n    </tr>\n    <tr>\n      <th>2</th>\n      <td>Gogol_3_4</td>\n      <td>Ulanova TI</td>\n      <td>3200</td>\n      <td>no</td>\n      <td>1200</td>\n      <td>120.0</td>\n    </tr>\n    <tr>\n      <th>3</th>\n      <td>Gogol_3_5</td>\n      <td>Budanova AI</td>\n      <td>6700</td>\n      <td>no</td>\n      <td>2100</td>\n      <td>210.0</td>\n    </tr>\n    <tr>\n      <th>4</th>\n      <td>Gogol_3_6</td>\n      <td>Komarov II</td>\n      <td>8100</td>\n      <td>yes</td>\n      <td>1800</td>\n      <td>0.0</td>\n    </tr>\n    <tr>\n      <th>5</th>\n      <td>Gogol_3_7</td>\n      <td>Komarov DP</td>\n      <td>4900</td>\n      <td>no</td>\n      <td>1000</td>\n      <td>100.0</td>\n    </tr>\n    <tr>\n      <th>6</th>\n      <td>Grecheskaya_1_45</td>\n      <td>Abramyan LL</td>\n      <td>5100</td>\n      <td>yes</td>\n      <td>900</td>\n      <td>0.0</td>\n    </tr>\n    <tr>\n      <th>7</th>\n      <td>Korolova_2_56</td>\n      <td>Ivanov II</td>\n      <td>2900</td>\n      <td>yes</td>\n      <td>800</td>\n      <td>0.0</td>\n    </tr>\n    <tr>\n      <th>8</th>\n      <td>Korolova_2_57</td>\n      <td>Ivanov PI</td>\n      <td>7800</td>\n      <td>no</td>\n      <td>1300</td>\n      <td>130.0</td>\n    </tr>\n    <tr>\n      <th>9</th>\n      <td>Korolova_2_58</td>\n      <td>Shatrov IV</td>\n      <td>6400</td>\n      <td>yes</td>\n      <td>1600</td>\n      <td>0.0</td>\n    </tr>\n    <tr>\n      <th>10</th>\n      <td>Korolova_2_59</td>\n      <td>Petrov MM</td>\n      <td>10000</td>\n      <td>no</td>\n      <td>2300</td>\n      <td>230.0</td>\n    </tr>\n    <tr>\n      <th>11</th>\n      <td>Korolova_2_60</td>\n      <td>Sidorov VK</td>\n      <td>4400</td>\n      <td>no</td>\n      <td>1900</td>\n      <td>190.0</td>\n    </tr>\n    <tr>\n      <th>12</th>\n      <td>Korolova_2_61</td>\n      <td>Sidorchyk KM</td>\n      <td>5750</td>\n      <td>no</td>\n      <td>1600</td>\n      <td>160.0</td>\n    </tr>\n    <tr>\n      <th>13</th>\n      <td>Malaya Arnautskaya_23_6</td>\n      <td>Kogan MG</td>\n      <td>6100</td>\n      <td>yes</td>\n      <td>1700</td>\n      <td>0.0</td>\n    </tr>\n    <tr>\n      <th>14</th>\n      <td>Malaya Arnautskaya_23_7</td>\n      <td>Polyakova MO</td>\n      <td>5200</td>\n      <td>no</td>\n      <td>1400</td>\n      <td>140.0</td>\n    </tr>\n  </tbody>\n</table>\n</div>"
     },
     "execution_count": 74,
     "metadata": {},
     "output_type": "execute_result"
    }
   ],
   "source": [
    "#task 0\n",
    "df['Subsidy'] = np.select([df['Debts'] == \"no\", df['AverageIncome'] < 4500], [df['Rent'] * 0.1, df['Rent'] == 0])\n",
    "df"
   ]
  },
  {
   "cell_type": "code",
   "execution_count": 75,
   "metadata": {
    "pycharm": {
     "name": "#%%\n"
    }
   },
   "outputs": [
    {
     "data": {
      "text/plain": "                     Adress        Tenant  AverageIncome Debts  Rent  Subsidy\n1                 Gogol_3_3  Ponomarov AD           4500    no  2000    200.0\n2                 Gogol_3_4    Ulanova TI           3200    no  1200    120.0\n3                 Gogol_3_5   Budanova AI           6700    no  2100    210.0\n5                 Gogol_3_7    Komarov DP           4900    no  1000    100.0\n8             Korolova_2_57     Ivanov PI           7800    no  1300    130.0\n10            Korolova_2_59     Petrov MM          10000    no  2300    230.0\n11            Korolova_2_60    Sidorov VK           4400    no  1900    190.0\n12            Korolova_2_61  Sidorchyk KM           5750    no  1600    160.0\n14  Malaya Arnautskaya_23_7  Polyakova MO           5200    no  1400    140.0",
      "text/html": "<div>\n<style scoped>\n    .dataframe tbody tr th:only-of-type {\n        vertical-align: middle;\n    }\n\n    .dataframe tbody tr th {\n        vertical-align: top;\n    }\n\n    .dataframe thead th {\n        text-align: right;\n    }\n</style>\n<table border=\"1\" class=\"dataframe\">\n  <thead>\n    <tr style=\"text-align: right;\">\n      <th></th>\n      <th>Adress</th>\n      <th>Tenant</th>\n      <th>AverageIncome</th>\n      <th>Debts</th>\n      <th>Rent</th>\n      <th>Subsidy</th>\n    </tr>\n  </thead>\n  <tbody>\n    <tr>\n      <th>1</th>\n      <td>Gogol_3_3</td>\n      <td>Ponomarov AD</td>\n      <td>4500</td>\n      <td>no</td>\n      <td>2000</td>\n      <td>200.0</td>\n    </tr>\n    <tr>\n      <th>2</th>\n      <td>Gogol_3_4</td>\n      <td>Ulanova TI</td>\n      <td>3200</td>\n      <td>no</td>\n      <td>1200</td>\n      <td>120.0</td>\n    </tr>\n    <tr>\n      <th>3</th>\n      <td>Gogol_3_5</td>\n      <td>Budanova AI</td>\n      <td>6700</td>\n      <td>no</td>\n      <td>2100</td>\n      <td>210.0</td>\n    </tr>\n    <tr>\n      <th>5</th>\n      <td>Gogol_3_7</td>\n      <td>Komarov DP</td>\n      <td>4900</td>\n      <td>no</td>\n      <td>1000</td>\n      <td>100.0</td>\n    </tr>\n    <tr>\n      <th>8</th>\n      <td>Korolova_2_57</td>\n      <td>Ivanov PI</td>\n      <td>7800</td>\n      <td>no</td>\n      <td>1300</td>\n      <td>130.0</td>\n    </tr>\n    <tr>\n      <th>10</th>\n      <td>Korolova_2_59</td>\n      <td>Petrov MM</td>\n      <td>10000</td>\n      <td>no</td>\n      <td>2300</td>\n      <td>230.0</td>\n    </tr>\n    <tr>\n      <th>11</th>\n      <td>Korolova_2_60</td>\n      <td>Sidorov VK</td>\n      <td>4400</td>\n      <td>no</td>\n      <td>1900</td>\n      <td>190.0</td>\n    </tr>\n    <tr>\n      <th>12</th>\n      <td>Korolova_2_61</td>\n      <td>Sidorchyk KM</td>\n      <td>5750</td>\n      <td>no</td>\n      <td>1600</td>\n      <td>160.0</td>\n    </tr>\n    <tr>\n      <th>14</th>\n      <td>Malaya Arnautskaya_23_7</td>\n      <td>Polyakova MO</td>\n      <td>5200</td>\n      <td>no</td>\n      <td>1400</td>\n      <td>140.0</td>\n    </tr>\n  </tbody>\n</table>\n</div>"
     },
     "execution_count": 75,
     "metadata": {},
     "output_type": "execute_result"
    }
   ],
   "source": [
    "#task1\n",
    "dt1 = df.loc[df['Subsidy'] > 0]\n",
    "dt1"
   ]
  },
  {
   "cell_type": "code",
   "execution_count": 76,
   "metadata": {
    "pycharm": {
     "name": "#%%\n"
    }
   },
   "outputs": [
    {
     "data": {
      "text/plain": "          Adress     Tenant  AverageIncome Debts  Rent  Subsidy\n7  Korolova_2_56  Ivanov II           2900   yes   800      0.0",
      "text/html": "<div>\n<style scoped>\n    .dataframe tbody tr th:only-of-type {\n        vertical-align: middle;\n    }\n\n    .dataframe tbody tr th {\n        vertical-align: top;\n    }\n\n    .dataframe thead th {\n        text-align: right;\n    }\n</style>\n<table border=\"1\" class=\"dataframe\">\n  <thead>\n    <tr style=\"text-align: right;\">\n      <th></th>\n      <th>Adress</th>\n      <th>Tenant</th>\n      <th>AverageIncome</th>\n      <th>Debts</th>\n      <th>Rent</th>\n      <th>Subsidy</th>\n    </tr>\n  </thead>\n  <tbody>\n    <tr>\n      <th>7</th>\n      <td>Korolova_2_56</td>\n      <td>Ivanov II</td>\n      <td>2900</td>\n      <td>yes</td>\n      <td>800</td>\n      <td>0.0</td>\n    </tr>\n  </tbody>\n</table>\n</div>"
     },
     "execution_count": 76,
     "metadata": {},
     "output_type": "execute_result"
    }
   ],
   "source": [
    "#task 2\n",
    "dt2 = df.loc[(df['AverageIncome'] < 4500) & (df['Debts'] == \"yes\")]\n",
    "dt2"
   ]
  },
  {
   "cell_type": "code",
   "execution_count": 77,
   "metadata": {
    "pycharm": {
     "name": "#%%\n"
    }
   },
   "outputs": [
    {
     "data": {
      "text/plain": "           Adress       Tenant  AverageIncome Debts  Rent  Subsidy\n3       Gogol_3_5  Budanova AI           6700    no  2100    210.0\n10  Korolova_2_59    Petrov MM          10000    no  2300    230.0",
      "text/html": "<div>\n<style scoped>\n    .dataframe tbody tr th:only-of-type {\n        vertical-align: middle;\n    }\n\n    .dataframe tbody tr th {\n        vertical-align: top;\n    }\n\n    .dataframe thead th {\n        text-align: right;\n    }\n</style>\n<table border=\"1\" class=\"dataframe\">\n  <thead>\n    <tr style=\"text-align: right;\">\n      <th></th>\n      <th>Adress</th>\n      <th>Tenant</th>\n      <th>AverageIncome</th>\n      <th>Debts</th>\n      <th>Rent</th>\n      <th>Subsidy</th>\n    </tr>\n  </thead>\n  <tbody>\n    <tr>\n      <th>3</th>\n      <td>Gogol_3_5</td>\n      <td>Budanova AI</td>\n      <td>6700</td>\n      <td>no</td>\n      <td>2100</td>\n      <td>210.0</td>\n    </tr>\n    <tr>\n      <th>10</th>\n      <td>Korolova_2_59</td>\n      <td>Petrov MM</td>\n      <td>10000</td>\n      <td>no</td>\n      <td>2300</td>\n      <td>230.0</td>\n    </tr>\n  </tbody>\n</table>\n</div>"
     },
     "execution_count": 77,
     "metadata": {},
     "output_type": "execute_result"
    }
   ],
   "source": [
    "#task 3\n",
    "dt3 = df.loc[df['Rent'] > 2000 ]\n",
    "dt3"
   ]
  },
  {
   "cell_type": "code",
   "execution_count": 78,
   "metadata": {
    "pycharm": {
     "name": "#%%\n"
    }
   },
   "outputs": [
    {
     "data": {
      "text/plain": "           Adress        Tenant  AverageIncome Debts  Rent  Subsidy\n0       Gogol_3_2  Ponomarov VD           5000   yes  1500      0.0\n1       Gogol_3_3  Ponomarov AD           4500    no  2000    200.0\n2       Gogol_3_4    Ulanova TI           3200    no  1200    120.0\n5       Gogol_3_7    Komarov DP           4900    no  1000    100.0\n11  Korolova_2_60    Sidorov VK           4400    no  1900    190.0",
      "text/html": "<div>\n<style scoped>\n    .dataframe tbody tr th:only-of-type {\n        vertical-align: middle;\n    }\n\n    .dataframe tbody tr th {\n        vertical-align: top;\n    }\n\n    .dataframe thead th {\n        text-align: right;\n    }\n</style>\n<table border=\"1\" class=\"dataframe\">\n  <thead>\n    <tr style=\"text-align: right;\">\n      <th></th>\n      <th>Adress</th>\n      <th>Tenant</th>\n      <th>AverageIncome</th>\n      <th>Debts</th>\n      <th>Rent</th>\n      <th>Subsidy</th>\n    </tr>\n  </thead>\n  <tbody>\n    <tr>\n      <th>0</th>\n      <td>Gogol_3_2</td>\n      <td>Ponomarov VD</td>\n      <td>5000</td>\n      <td>yes</td>\n      <td>1500</td>\n      <td>0.0</td>\n    </tr>\n    <tr>\n      <th>1</th>\n      <td>Gogol_3_3</td>\n      <td>Ponomarov AD</td>\n      <td>4500</td>\n      <td>no</td>\n      <td>2000</td>\n      <td>200.0</td>\n    </tr>\n    <tr>\n      <th>2</th>\n      <td>Gogol_3_4</td>\n      <td>Ulanova TI</td>\n      <td>3200</td>\n      <td>no</td>\n      <td>1200</td>\n      <td>120.0</td>\n    </tr>\n    <tr>\n      <th>5</th>\n      <td>Gogol_3_7</td>\n      <td>Komarov DP</td>\n      <td>4900</td>\n      <td>no</td>\n      <td>1000</td>\n      <td>100.0</td>\n    </tr>\n    <tr>\n      <th>11</th>\n      <td>Korolova_2_60</td>\n      <td>Sidorov VK</td>\n      <td>4400</td>\n      <td>no</td>\n      <td>1900</td>\n      <td>190.0</td>\n    </tr>\n  </tbody>\n</table>\n</div>"
     },
     "execution_count": 78,
     "metadata": {},
     "output_type": "execute_result"
    }
   ],
   "source": [
    "#task 4\n",
    "dt4 = df.loc[df['AverageIncome'] >= 3000]\n",
    "dt4_res = dt4.loc[dt4['AverageIncome'] <= 5000]\n",
    "dt4_res"
   ]
  },
  {
   "cell_type": "code",
   "execution_count": 79,
   "metadata": {},
   "outputs": [
    {
     "data": {
      "text/plain": "           Adress        Tenant  AverageIncome Debts  Rent  Subsidy\n1       Gogol_3_3  Ponomarov AD           4500    no  2000    200.0\n3       Gogol_3_5   Budanova AI           6700    no  2100    210.0\n10  Korolova_2_59     Petrov MM          10000    no  2300    230.0\n11  Korolova_2_60    Sidorov VK           4400    no  1900    190.0",
      "text/html": "<div>\n<style scoped>\n    .dataframe tbody tr th:only-of-type {\n        vertical-align: middle;\n    }\n\n    .dataframe tbody tr th {\n        vertical-align: top;\n    }\n\n    .dataframe thead th {\n        text-align: right;\n    }\n</style>\n<table border=\"1\" class=\"dataframe\">\n  <thead>\n    <tr style=\"text-align: right;\">\n      <th></th>\n      <th>Adress</th>\n      <th>Tenant</th>\n      <th>AverageIncome</th>\n      <th>Debts</th>\n      <th>Rent</th>\n      <th>Subsidy</th>\n    </tr>\n  </thead>\n  <tbody>\n    <tr>\n      <th>1</th>\n      <td>Gogol_3_3</td>\n      <td>Ponomarov AD</td>\n      <td>4500</td>\n      <td>no</td>\n      <td>2000</td>\n      <td>200.0</td>\n    </tr>\n    <tr>\n      <th>3</th>\n      <td>Gogol_3_5</td>\n      <td>Budanova AI</td>\n      <td>6700</td>\n      <td>no</td>\n      <td>2100</td>\n      <td>210.0</td>\n    </tr>\n    <tr>\n      <th>10</th>\n      <td>Korolova_2_59</td>\n      <td>Petrov MM</td>\n      <td>10000</td>\n      <td>no</td>\n      <td>2300</td>\n      <td>230.0</td>\n    </tr>\n    <tr>\n      <th>11</th>\n      <td>Korolova_2_60</td>\n      <td>Sidorov VK</td>\n      <td>4400</td>\n      <td>no</td>\n      <td>1900</td>\n      <td>190.0</td>\n    </tr>\n  </tbody>\n</table>\n</div>"
     },
     "execution_count": 79,
     "metadata": {},
     "output_type": "execute_result"
    }
   ],
   "source": [
    "#task 5\n",
    "dt1_res = dt1.loc[dt1['Rent'] > 1800]\n",
    "dt1_res"
   ]
  },
  {
   "cell_type": "code",
   "execution_count": 80,
   "outputs": [
    {
     "data": {
      "text/plain": "           Adress        Tenant  AverageIncome Debts  Rent  Subsidy\n1       Gogol_3_3  Ponomarov AD           4500    no  2000    200.0\n3       Gogol_3_5   Budanova AI           6700    no  2100    210.0\n10  Korolova_2_59     Petrov MM          10000    no  2300    230.0\n11  Korolova_2_60    Sidorov VK           4400    no  1900    190.0\n7   Korolova_2_56     Ivanov II           2900   yes   800      0.0",
      "text/html": "<div>\n<style scoped>\n    .dataframe tbody tr th:only-of-type {\n        vertical-align: middle;\n    }\n\n    .dataframe tbody tr th {\n        vertical-align: top;\n    }\n\n    .dataframe thead th {\n        text-align: right;\n    }\n</style>\n<table border=\"1\" class=\"dataframe\">\n  <thead>\n    <tr style=\"text-align: right;\">\n      <th></th>\n      <th>Adress</th>\n      <th>Tenant</th>\n      <th>AverageIncome</th>\n      <th>Debts</th>\n      <th>Rent</th>\n      <th>Subsidy</th>\n    </tr>\n  </thead>\n  <tbody>\n    <tr>\n      <th>1</th>\n      <td>Gogol_3_3</td>\n      <td>Ponomarov AD</td>\n      <td>4500</td>\n      <td>no</td>\n      <td>2000</td>\n      <td>200.0</td>\n    </tr>\n    <tr>\n      <th>3</th>\n      <td>Gogol_3_5</td>\n      <td>Budanova AI</td>\n      <td>6700</td>\n      <td>no</td>\n      <td>2100</td>\n      <td>210.0</td>\n    </tr>\n    <tr>\n      <th>10</th>\n      <td>Korolova_2_59</td>\n      <td>Petrov MM</td>\n      <td>10000</td>\n      <td>no</td>\n      <td>2300</td>\n      <td>230.0</td>\n    </tr>\n    <tr>\n      <th>11</th>\n      <td>Korolova_2_60</td>\n      <td>Sidorov VK</td>\n      <td>4400</td>\n      <td>no</td>\n      <td>1900</td>\n      <td>190.0</td>\n    </tr>\n    <tr>\n      <th>7</th>\n      <td>Korolova_2_56</td>\n      <td>Ivanov II</td>\n      <td>2900</td>\n      <td>yes</td>\n      <td>800</td>\n      <td>0.0</td>\n    </tr>\n  </tbody>\n</table>\n</div>"
     },
     "execution_count": 80,
     "metadata": {},
     "output_type": "execute_result"
    }
   ],
   "source": [
    "#task 6\n",
    "dt6_first_cond = dt1.loc[(dt1['Subsidy'] > 0) & (dt1['Rent'] > 1800)]\n",
    "dt6_second_cond = df.loc[(df['AverageIncome'] < 5000) & (df['Debts'] == 'yes')]\n",
    "dt6_result = pd.concat([dt6_first_cond, dt6_second_cond], join = 'outer')\n",
    "dt6_result"
   ],
   "metadata": {
    "collapsed": false,
    "pycharm": {
     "name": "#%%\n"
    }
   }
  },
  {
   "cell_type": "code",
   "execution_count": 81,
   "outputs": [
    {
     "data": {
      "text/plain": "             Adress        Tenant  AverageIncome Debts  Rent  Subsidy\n0         Gogol_3_2  Ponomarov VD           5000   yes  1500      0.0\n6  Grecheskaya_1_45   Abramyan LL           5100   yes   900      0.0\n7     Korolova_2_56     Ivanov II           2900   yes   800      0.0\n2         Gogol_3_4    Ulanova TI           3200    no  1200    120.0\n5         Gogol_3_7    Komarov DP           4900    no  1000    100.0",
      "text/html": "<div>\n<style scoped>\n    .dataframe tbody tr th:only-of-type {\n        vertical-align: middle;\n    }\n\n    .dataframe tbody tr th {\n        vertical-align: top;\n    }\n\n    .dataframe thead th {\n        text-align: right;\n    }\n</style>\n<table border=\"1\" class=\"dataframe\">\n  <thead>\n    <tr style=\"text-align: right;\">\n      <th></th>\n      <th>Adress</th>\n      <th>Tenant</th>\n      <th>AverageIncome</th>\n      <th>Debts</th>\n      <th>Rent</th>\n      <th>Subsidy</th>\n    </tr>\n  </thead>\n  <tbody>\n    <tr>\n      <th>0</th>\n      <td>Gogol_3_2</td>\n      <td>Ponomarov VD</td>\n      <td>5000</td>\n      <td>yes</td>\n      <td>1500</td>\n      <td>0.0</td>\n    </tr>\n    <tr>\n      <th>6</th>\n      <td>Grecheskaya_1_45</td>\n      <td>Abramyan LL</td>\n      <td>5100</td>\n      <td>yes</td>\n      <td>900</td>\n      <td>0.0</td>\n    </tr>\n    <tr>\n      <th>7</th>\n      <td>Korolova_2_56</td>\n      <td>Ivanov II</td>\n      <td>2900</td>\n      <td>yes</td>\n      <td>800</td>\n      <td>0.0</td>\n    </tr>\n    <tr>\n      <th>2</th>\n      <td>Gogol_3_4</td>\n      <td>Ulanova TI</td>\n      <td>3200</td>\n      <td>no</td>\n      <td>1200</td>\n      <td>120.0</td>\n    </tr>\n    <tr>\n      <th>5</th>\n      <td>Gogol_3_7</td>\n      <td>Komarov DP</td>\n      <td>4900</td>\n      <td>no</td>\n      <td>1000</td>\n      <td>100.0</td>\n    </tr>\n  </tbody>\n</table>\n</div>"
     },
     "execution_count": 81,
     "metadata": {},
     "output_type": "execute_result"
    }
   ],
   "source": [
    "#task 7\n",
    "dt7_first_cond = df.loc[(df['Debts'] == 'yes') & (df['Rent'] < 1600)]\n",
    "dt7_second_cond = dt4.loc[(dt4['AverageIncome'] > 3000) & (dt4['AverageIncome'] < 5000) & (df['Rent'] < 1800)]\n",
    "dt7_res = pd.concat([dt7_first_cond, dt7_second_cond], join = 'outer')\n",
    "dt7_res\n"
   ],
   "metadata": {
    "collapsed": false,
    "pycharm": {
     "name": "#%%\n"
    }
   }
  }
 ],
 "metadata": {
  "kernelspec": {
   "display_name": "Python 3",
   "language": "python",
   "name": "python3"
  },
  "language_info": {
   "codemirror_mode": {
    "name": "ipython",
    "version": 3
   },
   "file_extension": ".py",
   "mimetype": "text/x-python",
   "name": "python",
   "nbconvert_exporter": "python",
   "pygments_lexer": "ipython3",
   "version": "3.8.5"
  }
 },
 "nbformat": 4,
 "nbformat_minor": 1
}