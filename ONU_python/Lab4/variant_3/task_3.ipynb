{
 "cells": [
  {
   "cell_type": "code",
   "execution_count": 6,
   "metadata": {},
   "outputs": [],
   "source": [
    "import pandas as pd"
   ]
  },
  {
   "cell_type": "code",
   "execution_count": 2,
   "metadata": {
    "pycharm": {
     "name": "#%%\n"
    }
   },
   "outputs": [],
   "source": [
    "df1 = pd.read_csv('students1.txt', sep=\"\\t\")\n",
    "df2 = pd.read_csv('students2.txt', sep=\"\\t\")\n",
    "df3 = pd.read_csv('students3.txt', sep=\"\\t\")"
   ]
  },
  {
   "cell_type": "code",
   "execution_count": 4,
   "metadata": {
    "pycharm": {
     "name": "#%%\n"
    }
   },
   "outputs": [
    {
     "data": {
      "text/plain": [
       "English1               0.123817\n",
       "TheoryOfSets           0.457303\n",
       "HistoryOfUkraine       0.282527\n",
       "MathAnalysis1          0.516407\n",
       "AlgebraAndGeometry1    0.625959\n",
       "Programming1           1.000000\n",
       "UkrainianLanguage      0.580100\n",
       "Culturology            0.567347\n",
       "English2               0.166022\n",
       "PhysicalTraining       0.578521\n",
       "InternetTechnology     0.552924\n",
       "MathAnalysis2          0.257735\n",
       "AlgebraAndGeometry2    0.542248\n",
       "DiscreteMathematics    0.467432\n",
       "Programming2           0.705312\n",
       "NumericalPrastice      0.455436\n",
       "dtype: float64"
      ]
     },
     "execution_count": 4,
     "metadata": {},
     "output_type": "execute_result"
    }
   ],
   "source": [
    "#task 1\n",
    "\n",
    "res1 = df1.corrwith(df1.Programming1)\n",
    "res2 = df1.corrwith(df1.Programming2)\n",
    "res3 = df2.corrwith(df2.AlgorithmsAndDataStructures)\n",
    "\n",
    "res1\n",
    "#res2\n",
    "#res3"
   ]
  },
  {
   "cell_type": "code",
   "execution_count": 5,
   "metadata": {
    "pycharm": {
     "name": "#%%\n"
    }
   },
   "outputs": [
    {
     "data": {
      "text/plain": [
       "English1               0.558673\n",
       "TheoryOfSets           0.697637\n",
       "HistoryOfUkraine       0.639717\n",
       "MathAnalysis1          0.539063\n",
       "AlgebraAndGeometry1    0.524270\n",
       "Programming1           0.567347\n",
       "UkrainianLanguage      0.607603\n",
       "Culturology            1.000000\n",
       "English2               0.604520\n",
       "PhysicalTraining       0.819209\n",
       "InternetTechnology     0.805565\n",
       "MathAnalysis2          0.605980\n",
       "AlgebraAndGeometry2    0.556524\n",
       "DiscreteMathematics    0.705896\n",
       "Programming2           0.472658\n",
       "NumericalPrastice      0.582321\n",
       "dtype: float64"
      ]
     },
     "execution_count": 5,
     "metadata": {},
     "output_type": "execute_result"
    }
   ],
   "source": [
    "res4 = df1.corrwith(df1.Culturology)\n",
    "res5 = df3.corrwith(df2.FunctionalAnalysis)\n",
    "\n",
    "res4\n",
    "#res5\n"
   ]
  },
  {
   "cell_type": "code",
   "execution_count": null,
   "metadata": {},
   "outputs": [],
   "source": []
  },
  {
   "cell_type": "code",
   "execution_count": null,
   "metadata": {},
   "outputs": [],
   "source": []
  }
 ],
 "metadata": {
  "kernelspec": {
   "display_name": "Python 3",
   "language": "python",
   "name": "python3"
  },
  "language_info": {
   "codemirror_mode": {
    "name": "ipython",
    "version": 3
   },
   "file_extension": ".py",
   "mimetype": "text/x-python",
   "name": "python",
   "nbconvert_exporter": "python",
   "pygments_lexer": "ipython3",
   "version": "3.8.5"
  }
 },
 "nbformat": 4,
 "nbformat_minor": 1
}
