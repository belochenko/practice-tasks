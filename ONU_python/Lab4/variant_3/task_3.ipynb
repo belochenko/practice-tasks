{
 "cells": [
  {
   "cell_type": "code",
   "execution_count": 1,
   "metadata": {
    "collapsed": true
   },
   "outputs": [],
   "source": [
    "import pandas as pd"
   ]
  },
  {
   "cell_type": "code",
   "execution_count": 2,
   "outputs": [],
   "source": [
    "df1 = pd.read_csv('students1.txt', sep=\"\\t\")\n",
    "df2 = pd.read_csv('students2.txt', sep=\"\\t\")\n",
    "df3 = pd.read_csv('students3.txt', sep=\"\\t\")"
   ],
   "metadata": {
    "collapsed": false,
    "pycharm": {
     "name": "#%%\n"
    }
   }
  },
  {
   "cell_type": "code",
   "execution_count": 3,
   "outputs": [],
   "source": [
    "#task 1\n",
    "\n",
    "res1 = df1.corrwith(df1.Programming1)\n",
    "res2 = df1.corrwith(df1.Programming2)\n",
    "res3 = df2.corrwith(df2.AlgorithmsAndDataStructures)\n",
    "\n",
    "#res1\n",
    "#res2\n",
    "#res3"
   ],
   "metadata": {
    "collapsed": false,
    "pycharm": {
     "name": "#%%\n"
    }
   }
  },
  {
   "cell_type": "code",
   "execution_count": 4,
   "outputs": [],
   "source": [
    "res4 = df1.corrwith(df1.Culturology)\n",
    "res5 = df3.corrwith(df2.FunctionalAnalysis)\n",
    "\n",
    "#res4\n",
    "#res5\n"
   ],
   "metadata": {
    "collapsed": false,
    "pycharm": {
     "name": "#%%\n"
    }
   }
  }
 ],
 "metadata": {
  "kernelspec": {
   "display_name": "Python 3",
   "language": "python",
   "name": "python3"
  },
  "language_info": {
   "codemirror_mode": {
    "name": "ipython",
    "version": 2
   },
   "file_extension": ".py",
   "mimetype": "text/x-python",
   "name": "python",
   "nbconvert_exporter": "python",
   "pygments_lexer": "ipython2",
   "version": "2.7.6"
  }
 },
 "nbformat": 4,
 "nbformat_minor": 0
}