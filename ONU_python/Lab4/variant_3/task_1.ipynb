{
 "cells": [
  {
   "cell_type": "code",
   "execution_count": 11,
   "metadata": {
    "pycharm": {
     "name": "#%%\n"
    }
   },
   "outputs": [
    {
     "data": {
      "text/html": [
       "<div>\n",
       "<style scoped>\n",
       "    .dataframe tbody tr th:only-of-type {\n",
       "        vertical-align: middle;\n",
       "    }\n",
       "\n",
       "    .dataframe tbody tr th {\n",
       "        vertical-align: top;\n",
       "    }\n",
       "\n",
       "    .dataframe thead th {\n",
       "        text-align: right;\n",
       "    }\n",
       "</style>\n",
       "<table border=\"1\" class=\"dataframe\">\n",
       "  <thead>\n",
       "    <tr style=\"text-align: right;\">\n",
       "      <th></th>\n",
       "      <th>Day</th>\n",
       "      <th>Month</th>\n",
       "      <th>Region</th>\n",
       "      <th>Infected</th>\n",
       "    </tr>\n",
       "  </thead>\n",
       "  <tbody>\n",
       "    <tr>\n",
       "      <th>0</th>\n",
       "      <td>1</td>\n",
       "      <td>октябрь</td>\n",
       "      <td>Винницкая область</td>\n",
       "      <td>6308</td>\n",
       "    </tr>\n",
       "    <tr>\n",
       "      <th>1</th>\n",
       "      <td>1</td>\n",
       "      <td>октябрь</td>\n",
       "      <td>Волынская область</td>\n",
       "      <td>8194</td>\n",
       "    </tr>\n",
       "    <tr>\n",
       "      <th>2</th>\n",
       "      <td>1</td>\n",
       "      <td>октябрь</td>\n",
       "      <td>Днепропетровская область</td>\n",
       "      <td>6088</td>\n",
       "    </tr>\n",
       "    <tr>\n",
       "      <th>3</th>\n",
       "      <td>1</td>\n",
       "      <td>октябрь</td>\n",
       "      <td>Донецкая область</td>\n",
       "      <td>3557</td>\n",
       "    </tr>\n",
       "    <tr>\n",
       "      <th>4</th>\n",
       "      <td>1</td>\n",
       "      <td>октябрь</td>\n",
       "      <td>Житомирская область</td>\n",
       "      <td>6088</td>\n",
       "    </tr>\n",
       "    <tr>\n",
       "      <th>5</th>\n",
       "      <td>1</td>\n",
       "      <td>октябрь</td>\n",
       "      <td>Закарпатская область</td>\n",
       "      <td>9918</td>\n",
       "    </tr>\n",
       "    <tr>\n",
       "      <th>6</th>\n",
       "      <td>1</td>\n",
       "      <td>октябрь</td>\n",
       "      <td>Запорожская область</td>\n",
       "      <td>4128</td>\n",
       "    </tr>\n",
       "    <tr>\n",
       "      <th>7</th>\n",
       "      <td>1</td>\n",
       "      <td>октябрь</td>\n",
       "      <td>Ивано-Франковская область</td>\n",
       "      <td>13837</td>\n",
       "    </tr>\n",
       "    <tr>\n",
       "      <th>8</th>\n",
       "      <td>1</td>\n",
       "      <td>октябрь</td>\n",
       "      <td>Кировоградская область</td>\n",
       "      <td>1127</td>\n",
       "    </tr>\n",
       "    <tr>\n",
       "      <th>9</th>\n",
       "      <td>1</td>\n",
       "      <td>октябрь</td>\n",
       "      <td>г. Киев</td>\n",
       "      <td>23155</td>\n",
       "    </tr>\n",
       "    <tr>\n",
       "      <th>10</th>\n",
       "      <td>1</td>\n",
       "      <td>октябрь</td>\n",
       "      <td>Киевская область</td>\n",
       "      <td>9279</td>\n",
       "    </tr>\n",
       "    <tr>\n",
       "      <th>11</th>\n",
       "      <td>1</td>\n",
       "      <td>октябрь</td>\n",
       "      <td>Львовская область</td>\n",
       "      <td>20590</td>\n",
       "    </tr>\n",
       "    <tr>\n",
       "      <th>12</th>\n",
       "      <td>1</td>\n",
       "      <td>октябрь</td>\n",
       "      <td>Луганская область</td>\n",
       "      <td>1091</td>\n",
       "    </tr>\n",
       "    <tr>\n",
       "      <th>13</th>\n",
       "      <td>1</td>\n",
       "      <td>октябрь</td>\n",
       "      <td>Николаевская область</td>\n",
       "      <td>3270</td>\n",
       "    </tr>\n",
       "    <tr>\n",
       "      <th>14</th>\n",
       "      <td>1</td>\n",
       "      <td>октябрь</td>\n",
       "      <td>Одесская область</td>\n",
       "      <td>13789</td>\n",
       "    </tr>\n",
       "    <tr>\n",
       "      <th>15</th>\n",
       "      <td>1</td>\n",
       "      <td>октябрь</td>\n",
       "      <td>Полтавская область</td>\n",
       "      <td>2345</td>\n",
       "    </tr>\n",
       "    <tr>\n",
       "      <th>16</th>\n",
       "      <td>1</td>\n",
       "      <td>октябрь</td>\n",
       "      <td>Ровенская область</td>\n",
       "      <td>12554</td>\n",
       "    </tr>\n",
       "    <tr>\n",
       "      <th>17</th>\n",
       "      <td>1</td>\n",
       "      <td>октябрь</td>\n",
       "      <td>Сумская область</td>\n",
       "      <td>4435</td>\n",
       "    </tr>\n",
       "    <tr>\n",
       "      <th>18</th>\n",
       "      <td>1</td>\n",
       "      <td>октябрь</td>\n",
       "      <td>Тернопольская область</td>\n",
       "      <td>13767</td>\n",
       "    </tr>\n",
       "    <tr>\n",
       "      <th>19</th>\n",
       "      <td>1</td>\n",
       "      <td>октябрь</td>\n",
       "      <td>Харьковская область</td>\n",
       "      <td>19128</td>\n",
       "    </tr>\n",
       "  </tbody>\n",
       "</table>\n",
       "</div>"
      ],
      "text/plain": [
       "    Day    Month                     Region  Infected\n",
       "0     1  октябрь          Винницкая область      6308\n",
       "1     1  октябрь          Волынская область      8194\n",
       "2     1  октябрь   Днепропетровская область      6088\n",
       "3     1  октябрь           Донецкая область      3557\n",
       "4     1  октябрь        Житомирская область      6088\n",
       "5     1  октябрь       Закарпатская область      9918\n",
       "6     1  октябрь        Запорожская область      4128\n",
       "7     1  октябрь  Ивано-Франковская область     13837\n",
       "8     1  октябрь     Кировоградская область      1127\n",
       "9     1  октябрь                    г. Киев     23155\n",
       "10    1  октябрь           Киевская область      9279\n",
       "11    1  октябрь          Львовская область     20590\n",
       "12    1  октябрь          Луганская область      1091\n",
       "13    1  октябрь       Николаевская область      3270\n",
       "14    1  октябрь           Одесская область     13789\n",
       "15    1  октябрь         Полтавская область      2345\n",
       "16    1  октябрь          Ровенская область     12554\n",
       "17    1  октябрь            Сумская область      4435\n",
       "18    1  октябрь      Тернопольская область     13767\n",
       "19    1  октябрь        Харьковская область     19128"
      ]
     },
     "execution_count": 11,
     "metadata": {},
     "output_type": "execute_result"
    }
   ],
   "source": [
    "import pandas as pd\n",
    "import seaborn as sns\n",
    "sns.set()\n",
    "\n",
    "df = pd.read_excel('covid19.xlsx')\n",
    "df.head(20)"
   ]
  },
  {
   "cell_type": "code",
   "execution_count": 9,
   "metadata": {
    "pycharm": {
     "name": "#%%\n"
    },
    "scrolled": true
   },
   "outputs": [],
   "source": [
    "dt1 = df.loc[df['Region'] == 'г. Киев']"
   ]
  },
  {
   "cell_type": "code",
   "execution_count": 10,
   "metadata": {
    "pycharm": {
     "name": "#%%\n"
    }
   },
   "outputs": [],
   "source": [
    "dt2 = dt1.groupby(\"Month\").mean()"
   ]
  },
  {
   "cell_type": "code",
   "execution_count": 11,
   "metadata": {
    "pycharm": {
     "name": "#%%\n"
    }
   },
   "outputs": [
    {
     "data": {
      "text/plain": [
       "<AxesSubplot:xlabel='Month'>"
      ]
     },
     "execution_count": 11,
     "metadata": {},
     "output_type": "execute_result"
    },
    {
     "data": {
      "image/png": "[encoded data removed]",
      "text/plain": [
       "<Figure size 432x288 with 1 Axes>"
      ]
     },
     "metadata": {},
     "output_type": "display_data"
    }
   ],
   "source": [
    "del dt2['Day']\n",
    "dt2.plot(kind='bar')\n"
   ]
  }
 ],
 "metadata": {
  "kernelspec": {
   "display_name": "Python 3",
   "language": "python",
   "name": "python3"
  },
  "language_info": {
   "codemirror_mode": {
    "name": "ipython",
    "version": 3
   },
   "file_extension": ".py",
   "mimetype": "text/x-python",
   "name": "python",
   "nbconvert_exporter": "python",
   "pygments_lexer": "ipython3",
   "version": "3.8.5"
  }
 },
 "nbformat": 4,
 "nbformat_minor": 1
}