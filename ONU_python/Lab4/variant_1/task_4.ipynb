{
 "cells": [
  {
   "cell_type": "code",
   "execution_count": 1,
   "metadata": {
    "collapsed": true
   },
   "outputs": [],
   "source": [
    "import pandas as pd\n",
    "import numpy as np"
   ]
  },
  {
   "cell_type": "code",
   "execution_count": 10,
   "outputs": [
    {
     "data": {
      "text/plain": "     iata                    airport              city state country  \\\n0     00M                   Thigpen        Bay Springs    MS     USA   \n1     00R       Livingston Municipal        Livingston    TX     USA   \n2     00V                Meadow Lake  Colorado Springs    CO     USA   \n3     01G               Perry-Warsaw             Perry    NY     USA   \n4     01J           Hilliard Airpark          Hilliard    FL     USA   \n...   ...                        ...               ...   ...     ...   \n3371  ZEF            Elkin Municipal             Elkin    NC     USA   \n3372  ZER  Schuylkill Cty/Joe Zerbey        Pottsville    PA     USA   \n3373  ZPH      Zephyrhills Municipal       Zephyrhills    FL     USA   \n3374  ZUN                 Black Rock              Zuni    NM     USA   \n3375  ZZV       Zanesville Municipal        Zanesville    OH     USA   \n\n            lat        long  \n0     31.953765  -89.234505  \n1     30.685861  -95.017928  \n2     38.945749 -104.569893  \n3     42.741347  -78.052081  \n4     30.688012  -81.905944  \n...         ...         ...  \n3371  36.280024  -80.786069  \n3372  40.706449  -76.373147  \n3373  28.228065  -82.155916  \n3374  35.083227 -108.791777  \n3375  39.944458  -81.892105  \n\n[3376 rows x 7 columns]",
      "text/html": "<div>\n<style scoped>\n    .dataframe tbody tr th:only-of-type {\n        vertical-align: middle;\n    }\n\n    .dataframe tbody tr th {\n        vertical-align: top;\n    }\n\n    .dataframe thead th {\n        text-align: right;\n    }\n</style>\n<table border=\"1\" class=\"dataframe\">\n  <thead>\n    <tr style=\"text-align: right;\">\n      <th></th>\n      <th>iata</th>\n      <th>airport</th>\n      <th>city</th>\n      <th>state</th>\n      <th>country</th>\n      <th>lat</th>\n      <th>long</th>\n    </tr>\n  </thead>\n  <tbody>\n    <tr>\n      <th>0</th>\n      <td>00M</td>\n      <td>Thigpen</td>\n      <td>Bay Springs</td>\n      <td>MS</td>\n      <td>USA</td>\n      <td>31.953765</td>\n      <td>-89.234505</td>\n    </tr>\n    <tr>\n      <th>1</th>\n      <td>00R</td>\n      <td>Livingston Municipal</td>\n      <td>Livingston</td>\n      <td>TX</td>\n      <td>USA</td>\n      <td>30.685861</td>\n      <td>-95.017928</td>\n    </tr>\n    <tr>\n      <th>2</th>\n      <td>00V</td>\n      <td>Meadow Lake</td>\n      <td>Colorado Springs</td>\n      <td>CO</td>\n      <td>USA</td>\n      <td>38.945749</td>\n      <td>-104.569893</td>\n    </tr>\n    <tr>\n      <th>3</th>\n      <td>01G</td>\n      <td>Perry-Warsaw</td>\n      <td>Perry</td>\n      <td>NY</td>\n      <td>USA</td>\n      <td>42.741347</td>\n      <td>-78.052081</td>\n    </tr>\n    <tr>\n      <th>4</th>\n      <td>01J</td>\n      <td>Hilliard Airpark</td>\n      <td>Hilliard</td>\n      <td>FL</td>\n      <td>USA</td>\n      <td>30.688012</td>\n      <td>-81.905944</td>\n    </tr>\n    <tr>\n      <th>...</th>\n      <td>...</td>\n      <td>...</td>\n      <td>...</td>\n      <td>...</td>\n      <td>...</td>\n      <td>...</td>\n      <td>...</td>\n    </tr>\n    <tr>\n      <th>3371</th>\n      <td>ZEF</td>\n      <td>Elkin Municipal</td>\n      <td>Elkin</td>\n      <td>NC</td>\n      <td>USA</td>\n      <td>36.280024</td>\n      <td>-80.786069</td>\n    </tr>\n    <tr>\n      <th>3372</th>\n      <td>ZER</td>\n      <td>Schuylkill Cty/Joe Zerbey</td>\n      <td>Pottsville</td>\n      <td>PA</td>\n      <td>USA</td>\n      <td>40.706449</td>\n      <td>-76.373147</td>\n    </tr>\n    <tr>\n      <th>3373</th>\n      <td>ZPH</td>\n      <td>Zephyrhills Municipal</td>\n      <td>Zephyrhills</td>\n      <td>FL</td>\n      <td>USA</td>\n      <td>28.228065</td>\n      <td>-82.155916</td>\n    </tr>\n    <tr>\n      <th>3374</th>\n      <td>ZUN</td>\n      <td>Black Rock</td>\n      <td>Zuni</td>\n      <td>NM</td>\n      <td>USA</td>\n      <td>35.083227</td>\n      <td>-108.791777</td>\n    </tr>\n    <tr>\n      <th>3375</th>\n      <td>ZZV</td>\n      <td>Zanesville Municipal</td>\n      <td>Zanesville</td>\n      <td>OH</td>\n      <td>USA</td>\n      <td>39.944458</td>\n      <td>-81.892105</td>\n    </tr>\n  </tbody>\n</table>\n<p>3376 rows × 7 columns</p>\n</div>"
     },
     "execution_count": 10,
     "metadata": {},
     "output_type": "execute_result"
    }
   ],
   "source": [
    "df_rand = pd.read_csv('2008_rand.csv')\n",
    "df_airports = pd.read_csv('airports.csv')\n",
    "df_airports\n"
   ],
   "metadata": {
    "collapsed": false,
    "pycharm": {
     "name": "#%%\n"
    }
   }
  },
  {
   "cell_type": "code",
   "execution_count": 4,
   "outputs": [],
   "source": [
    "#task 1\n",
    "\n",
    "distance = df_rand['Distance']\n",
    "#distance.mean()\n",
    "#distance.max()\n",
    "#distance.min()"
   ],
   "metadata": {
    "collapsed": false,
    "pycharm": {
     "name": "#%%\n"
    }
   }
  },
  {
   "cell_type": "code",
   "execution_count": 5,
   "outputs": [
    {
     "data": {
      "text/plain": "        Year  Month  DayofMonth  DayOfWeek TailNum  Distance\n454987  2008      8          10          7  N819CA        11",
      "text/html": "<div>\n<style scoped>\n    .dataframe tbody tr th:only-of-type {\n        vertical-align: middle;\n    }\n\n    .dataframe tbody tr th {\n        vertical-align: top;\n    }\n\n    .dataframe thead th {\n        text-align: right;\n    }\n</style>\n<table border=\"1\" class=\"dataframe\">\n  <thead>\n    <tr style=\"text-align: right;\">\n      <th></th>\n      <th>Year</th>\n      <th>Month</th>\n      <th>DayofMonth</th>\n      <th>DayOfWeek</th>\n      <th>TailNum</th>\n      <th>Distance</th>\n    </tr>\n  </thead>\n  <tbody>\n    <tr>\n      <th>454987</th>\n      <td>2008</td>\n      <td>8</td>\n      <td>10</td>\n      <td>7</td>\n      <td>N819CA</td>\n      <td>11</td>\n    </tr>\n  </tbody>\n</table>\n</div>"
     },
     "execution_count": 5,
     "metadata": {},
     "output_type": "execute_result"
    }
   ],
   "source": [
    "#task 2\n",
    "res2 = df_rand.loc[df_rand['Distance'] == distance.min()]\n",
    "res2[['Year', 'Month', 'DayofMonth', 'DayOfWeek', 'TailNum', 'Distance']]\n"
   ],
   "metadata": {
    "collapsed": false,
    "pycharm": {
     "name": "#%%\n"
    }
   }
  },
  {
   "cell_type": "code",
   "execution_count": 6,
   "outputs": [
    {
     "name": "stdout",
     "output_type": "stream",
     "text": [
      "7 month - 44797 amount of departures\n"
     ]
    }
   ],
   "source": [
    "#task 3\n",
    "\n",
    "tmp3 = df_rand.groupby('Month').size().sort_values(ascending=False)\n",
    "print(f'{tmp3.index[0]} month - {tmp3.max()} amount of departures')"
   ],
   "metadata": {
    "collapsed": false,
    "pycharm": {
     "name": "#%%\n"
    }
   }
  },
  {
   "cell_type": "code",
   "execution_count": 12,
   "outputs": [
    {
     "ename": "IndexError",
     "evalue": "only integers, slices (`:`), ellipsis (`...`), numpy.newaxis (`None`) and integer or boolean arrays are valid indices",
     "output_type": "error",
     "traceback": [
      "\u001B[0;31m---------------------------------------------------------------------------\u001B[0m",
      "\u001B[0;31mIndexError\u001B[0m                                Traceback (most recent call last)",
      "\u001B[0;32m<ipython-input-12-49303001aabe>\u001B[0m in \u001B[0;36m<module>\u001B[0;34m\u001B[0m\n\u001B[1;32m      3\u001B[0m \u001B[0md\u001B[0m \u001B[0;34m=\u001B[0m \u001B[0mdf4\u001B[0m\u001B[0;34m.\u001B[0m\u001B[0mgroupby\u001B[0m\u001B[0;34m(\u001B[0m\u001B[0;34m'Dest'\u001B[0m\u001B[0;34m)\u001B[0m\u001B[0;34m.\u001B[0m\u001B[0msize\u001B[0m\u001B[0;34m(\u001B[0m\u001B[0;34m)\u001B[0m\u001B[0;34m.\u001B[0m\u001B[0msort_values\u001B[0m\u001B[0;34m(\u001B[0m\u001B[0mascending\u001B[0m\u001B[0;34m=\u001B[0m\u001B[0;32mFalse\u001B[0m\u001B[0;34m)\u001B[0m\u001B[0;34m\u001B[0m\u001B[0;34m\u001B[0m\u001B[0m\n\u001B[1;32m      4\u001B[0m \u001B[0mtmp\u001B[0m \u001B[0;34m=\u001B[0m \u001B[0md\u001B[0m\u001B[0;34m.\u001B[0m\u001B[0mindex\u001B[0m\u001B[0;34m.\u001B[0m\u001B[0mvalues\u001B[0m\u001B[0;34m[\u001B[0m\u001B[0;36m0\u001B[0m\u001B[0;34m:\u001B[0m\u001B[0;36m5\u001B[0m\u001B[0;34m]\u001B[0m\u001B[0;34m.\u001B[0m\u001B[0mtolist\u001B[0m\u001B[0;34m(\u001B[0m\u001B[0;34m)\u001B[0m\u001B[0;34m\u001B[0m\u001B[0;34m\u001B[0m\u001B[0m\n\u001B[0;32m----> 5\u001B[0;31m \u001B[0mdf_airports\u001B[0m\u001B[0;34m.\u001B[0m\u001B[0mindex\u001B[0m\u001B[0;34m[\u001B[0m\u001B[0mdf_airports\u001B[0m\u001B[0;34m[\u001B[0m\u001B[0;34m'iata'\u001B[0m\u001B[0;34m]\u001B[0m\u001B[0;34m]\u001B[0m\u001B[0;34m.\u001B[0m\u001B[0mtolist\u001B[0m\u001B[0;34m(\u001B[0m\u001B[0;34m)\u001B[0m\u001B[0;34m\u001B[0m\u001B[0;34m\u001B[0m\u001B[0m\n\u001B[0m\u001B[1;32m      6\u001B[0m \u001B[0;34m\u001B[0m\u001B[0m\n\u001B[1;32m      7\u001B[0m \u001B[0;34m\u001B[0m\u001B[0m\n",
      "\u001B[0;32m~/.conda/envs/practice-tasks/lib/python3.8/site-packages/pandas/core/indexes/range.py\u001B[0m in \u001B[0;36m__getitem__\u001B[0;34m(self, key)\u001B[0m\n\u001B[1;32m    718\u001B[0m             )\n\u001B[1;32m    719\u001B[0m         \u001B[0;31m# fall back to Int64Index\u001B[0m\u001B[0;34m\u001B[0m\u001B[0;34m\u001B[0m\u001B[0;34m\u001B[0m\u001B[0m\n\u001B[0;32m--> 720\u001B[0;31m         \u001B[0;32mreturn\u001B[0m \u001B[0msuper\u001B[0m\u001B[0;34m(\u001B[0m\u001B[0;34m)\u001B[0m\u001B[0;34m.\u001B[0m\u001B[0m__getitem__\u001B[0m\u001B[0;34m(\u001B[0m\u001B[0mkey\u001B[0m\u001B[0;34m)\u001B[0m\u001B[0;34m\u001B[0m\u001B[0;34m\u001B[0m\u001B[0m\n\u001B[0m\u001B[1;32m    721\u001B[0m \u001B[0;34m\u001B[0m\u001B[0m\n\u001B[1;32m    722\u001B[0m     \u001B[0;34m@\u001B[0m\u001B[0munpack_zerodim_and_defer\u001B[0m\u001B[0;34m(\u001B[0m\u001B[0;34m\"__floordiv__\"\u001B[0m\u001B[0;34m)\u001B[0m\u001B[0;34m\u001B[0m\u001B[0;34m\u001B[0m\u001B[0m\n",
      "\u001B[0;32m~/.conda/envs/practice-tasks/lib/python3.8/site-packages/pandas/core/indexes/base.py\u001B[0m in \u001B[0;36m__getitem__\u001B[0;34m(self, key)\u001B[0m\n\u001B[1;32m   4109\u001B[0m             \u001B[0mkey\u001B[0m \u001B[0;34m=\u001B[0m \u001B[0mnp\u001B[0m\u001B[0;34m.\u001B[0m\u001B[0masarray\u001B[0m\u001B[0;34m(\u001B[0m\u001B[0mkey\u001B[0m\u001B[0;34m,\u001B[0m \u001B[0mdtype\u001B[0m\u001B[0;34m=\u001B[0m\u001B[0mbool\u001B[0m\u001B[0;34m)\u001B[0m\u001B[0;34m\u001B[0m\u001B[0;34m\u001B[0m\u001B[0m\n\u001B[1;32m   4110\u001B[0m \u001B[0;34m\u001B[0m\u001B[0m\n\u001B[0;32m-> 4111\u001B[0;31m         \u001B[0mresult\u001B[0m \u001B[0;34m=\u001B[0m \u001B[0mgetitem\u001B[0m\u001B[0;34m(\u001B[0m\u001B[0mkey\u001B[0m\u001B[0;34m)\u001B[0m\u001B[0;34m\u001B[0m\u001B[0;34m\u001B[0m\u001B[0m\n\u001B[0m\u001B[1;32m   4112\u001B[0m         \u001B[0;32mif\u001B[0m \u001B[0;32mnot\u001B[0m \u001B[0mis_scalar\u001B[0m\u001B[0;34m(\u001B[0m\u001B[0mresult\u001B[0m\u001B[0;34m)\u001B[0m\u001B[0;34m:\u001B[0m\u001B[0;34m\u001B[0m\u001B[0;34m\u001B[0m\u001B[0m\n\u001B[1;32m   4113\u001B[0m             \u001B[0;32mif\u001B[0m \u001B[0mnp\u001B[0m\u001B[0;34m.\u001B[0m\u001B[0mndim\u001B[0m\u001B[0;34m(\u001B[0m\u001B[0mresult\u001B[0m\u001B[0;34m)\u001B[0m \u001B[0;34m>\u001B[0m \u001B[0;36m1\u001B[0m\u001B[0;34m:\u001B[0m\u001B[0;34m\u001B[0m\u001B[0;34m\u001B[0m\u001B[0m\n",
      "\u001B[0;31mIndexError\u001B[0m: only integers, slices (`:`), ellipsis (`...`), numpy.newaxis (`None`) and integer or boolean arrays are valid indices"
     ]
    }
   ],
   "source": [
    "#task 4\n",
    "df4 = df_rand[df_rand['Month'] == 12]\n",
    "d = df4.groupby('Dest').size().sort_values(ascending=False)\n",
    "tmp = d.index.values[0:5].tolist()\n",
    "df_airports.index[df_airports['iata']].tolist()\n"
   ],
   "metadata": {
    "collapsed": false,
    "pycharm": {
     "name": "#%%\n"
    }
   }
  },
  {
   "cell_type": "code",
   "execution_count": 77,
   "outputs": [
    {
     "data": {
      "text/plain": "     iata                       airport     city state country        lat  \\\n2531  ORD  Chicago O'Hare International  Chicago    IL     USA  41.979595   \n\n           long  \n2531 -87.904464  ",
      "text/html": "<div>\n<style scoped>\n    .dataframe tbody tr th:only-of-type {\n        vertical-align: middle;\n    }\n\n    .dataframe tbody tr th {\n        vertical-align: top;\n    }\n\n    .dataframe thead th {\n        text-align: right;\n    }\n</style>\n<table border=\"1\" class=\"dataframe\">\n  <thead>\n    <tr style=\"text-align: right;\">\n      <th></th>\n      <th>iata</th>\n      <th>airport</th>\n      <th>city</th>\n      <th>state</th>\n      <th>country</th>\n      <th>lat</th>\n      <th>long</th>\n    </tr>\n  </thead>\n  <tbody>\n    <tr>\n      <th>2531</th>\n      <td>ORD</td>\n      <td>Chicago O'Hare International</td>\n      <td>Chicago</td>\n      <td>IL</td>\n      <td>USA</td>\n      <td>41.979595</td>\n      <td>-87.904464</td>\n    </tr>\n  </tbody>\n</table>\n</div>"
     },
     "execution_count": 77,
     "metadata": {},
     "output_type": "execute_result"
    }
   ],
   "source": [
    "#task 5\n",
    "delay = df_rand['DepDelay']\n",
    "res5 = df_rand.loc[df_rand['DepDelay'] == delay.max()]\n",
    "#res5[['Year', 'Month', 'DayofMonth', 'DayOfWeek', 'DepDelay', 'Dest']]\n",
    "res5_airport = df_airports.loc[df_airports['iata'] == 'ORD']\n",
    "res5_airport"
   ],
   "metadata": {
    "collapsed": false,
    "pycharm": {
     "name": "#%%\n"
    }
   }
  }
 ],
 "metadata": {
  "kernelspec": {
   "display_name": "Python 3",
   "language": "python",
   "name": "python3"
  },
  "language_info": {
   "codemirror_mode": {
    "name": "ipython",
    "version": 2
   },
   "file_extension": ".py",
   "mimetype": "text/x-python",
   "name": "python",
   "nbconvert_exporter": "python",
   "pygments_lexer": "ipython2",
   "version": "2.7.6"
  }
 },
 "nbformat": 4,
 "nbformat_minor": 0
}