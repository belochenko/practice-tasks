{
 "cells": [
  {
   "cell_type": "code",
   "execution_count": 1,
   "metadata": {
    "collapsed": true
   },
   "outputs": [],
   "source": [
    "import pandas as pd"
   ]
  },
  {
   "cell_type": "code",
   "execution_count": 2,
   "outputs": [],
   "source": [
    "def func(c) :\n",
    "    print(c)\n",
    "    if (abs(c) == 1) :\n",
    "        print(\"линейная зависимость\")\n",
    "    elif (abs(c) <= 0.4) :\n",
    "        print(\"Коэффициент корреляции - маленький\")\n",
    "    elif (abs(c) >= 0.5 and abs(c) <= 0.7) :\n",
    "        print(\"Коэффициент корреляции - средний\")\n",
    "    else :\n",
    "        print(\"Коэффициент корреляции - большой\")"
   ],
   "metadata": {
    "collapsed": false,
    "pycharm": {
     "name": "#%%\n"
    }
   }
  },
  {
   "cell_type": "code",
   "execution_count": 3,
   "outputs": [],
   "source": [
    "df1=pd.read_table('students1.txt')\n",
    "df2=pd.read_table('students2.txt')\n",
    "df3=pd.read_table('students3.txt')"
   ],
   "metadata": {
    "collapsed": false,
    "pycharm": {
     "name": "#%%\n"
    }
   }
  },
  {
   "cell_type": "code",
   "execution_count": 10,
   "outputs": [],
   "source": [
    "c1 = df1['MathAnalysis1'].corr(df1['MathAnalysis2'])\n",
    "c2 = df1['MathAnalysis1'].corr(df2['MathAnalysis3'])\n",
    "c3 = df1['MathAnalysis2'].corr(df2['MathAnalysis3'])\n",
    "c4 = df1['HistoryOfUkraine'].corr(df3['SpecialProgrammingLanguages'])"
   ],
   "metadata": {
    "collapsed": false,
    "pycharm": {
     "name": "#%%\n"
    }
   }
  },
  {
   "cell_type": "code",
   "execution_count": 6,
   "outputs": [
    {
     "name": "stdout",
     "output_type": "stream",
     "text": [
      "0.7671974347746862\n",
      "Коэффициент корреляции - большой\n"
     ]
    }
   ],
   "source": [
    "func(c1)"
   ],
   "metadata": {
    "collapsed": false,
    "pycharm": {
     "name": "#%%\n"
    }
   }
  },
  {
   "cell_type": "code",
   "execution_count": 8,
   "outputs": [
    {
     "name": "stdout",
     "output_type": "stream",
     "text": [
      "0.7596371745145292\n",
      "Коэффициент корреляции - большой\n"
     ]
    }
   ],
   "source": [
    "func(c2)"
   ],
   "metadata": {
    "collapsed": false,
    "pycharm": {
     "name": "#%%\n"
    }
   }
  },
  {
   "cell_type": "code",
   "execution_count": 9,
   "outputs": [
    {
     "name": "stdout",
     "output_type": "stream",
     "text": [
      "0.8330859355433327\n",
      "Коэффициент корреляции - большой\n"
     ]
    }
   ],
   "source": [
    "func(c3)"
   ],
   "metadata": {
    "collapsed": false,
    "pycharm": {
     "name": "#%%\n"
    }
   }
  },
  {
   "cell_type": "code",
   "execution_count": 11,
   "outputs": [
    {
     "name": "stdout",
     "output_type": "stream",
     "text": [
      "0.1656392143303371\n",
      "Коэффициент корреляции - маленький\n"
     ]
    }
   ],
   "source": [
    "func(c4)\n"
   ],
   "metadata": {
    "collapsed": false,
    "pycharm": {
     "name": "#%%\n"
    }
   }
  }
 ],
 "metadata": {
  "kernelspec": {
   "display_name": "Python 3",
   "language": "python",
   "name": "python3"
  },
  "language_info": {
   "codemirror_mode": {
    "name": "ipython",
    "version": 2
   },
   "file_extension": ".py",
   "mimetype": "text/x-python",
   "name": "python",
   "nbconvert_exporter": "python",
   "pygments_lexer": "ipython2",
   "version": "2.7.6"
  }
 },
 "nbformat": 4,
 "nbformat_minor": 0
}