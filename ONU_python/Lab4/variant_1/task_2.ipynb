{
 "cells": [
  {
   "cell_type": "code",
   "execution_count": 16,
   "metadata": {
    "pycharm": {
     "name": "#%%\n"
    }
   },
   "outputs": [],
   "source": [
    "import pandas as pd\n",
    "import seaborn as sns\n",
    "import numpy as np\n",
    "sns.set()"
   ]
  },
  {
   "cell_type": "code",
   "execution_count": 26,
   "metadata": {
    "pycharm": {
     "name": "#%%\n"
    }
   },
   "outputs": [
    {
     "name": "stdout",
     "output_type": "stream",
     "text": [
      "<class 'pandas.core.frame.DataFrame'>\n",
      "RangeIndex: 15 entries, 0 to 14\n",
      "Data columns (total 6 columns):\n",
      " #   Column                Non-Null Count  Dtype \n",
      "---  ------                --------------  ----- \n",
      " 0   Adress                15 non-null     object\n",
      " 1   Tenant                15 non-null     object\n",
      " 2   Quantity_of_people    15 non-null     int64 \n",
      " 3   Meters                15 non-null     int64 \n",
      " 4   Privileges            15 non-null     object\n",
      " 5   Year_of_registration  15 non-null     int64 \n",
      "dtypes: int64(3), object(3)\n",
      "memory usage: 848.0+ bytes\n"
     ]
    }
   ],
   "source": [
    "df = pd.read_excel('filter1.xlsx')\n",
    "df.info()"
   ]
  },
  {
   "cell_type": "code",
   "execution_count": 41,
   "metadata": {},
   "outputs": [
    {
     "data": {
      "text/html": [
       "<div>\n",
       "<style scoped>\n",
       "    .dataframe tbody tr th:only-of-type {\n",
       "        vertical-align: middle;\n",
       "    }\n",
       "\n",
       "    .dataframe tbody tr th {\n",
       "        vertical-align: top;\n",
       "    }\n",
       "\n",
       "    .dataframe thead th {\n",
       "        text-align: right;\n",
       "    }\n",
       "</style>\n",
       "<table border=\"1\" class=\"dataframe\">\n",
       "  <thead>\n",
       "    <tr style=\"text-align: right;\">\n",
       "      <th></th>\n",
       "      <th>Adress</th>\n",
       "      <th>Tenant</th>\n",
       "      <th>Quantity_of_people</th>\n",
       "      <th>Meters</th>\n",
       "      <th>Privileges</th>\n",
       "      <th>Year_of_registration</th>\n",
       "      <th>Surplas</th>\n",
       "    </tr>\n",
       "  </thead>\n",
       "  <tbody>\n",
       "    <tr>\n",
       "      <th>0</th>\n",
       "      <td>Gogol_3_2</td>\n",
       "      <td>Ponomarov VD</td>\n",
       "      <td>3</td>\n",
       "      <td>65</td>\n",
       "      <td>yes</td>\n",
       "      <td>1976</td>\n",
       "      <td>-8</td>\n",
       "    </tr>\n",
       "    <tr>\n",
       "      <th>1</th>\n",
       "      <td>Gogol_3_3</td>\n",
       "      <td>Ponomarov AD</td>\n",
       "      <td>7</td>\n",
       "      <td>167</td>\n",
       "      <td>yes</td>\n",
       "      <td>1976</td>\n",
       "      <td>10</td>\n",
       "    </tr>\n",
       "    <tr>\n",
       "      <th>2</th>\n",
       "      <td>Gogol_3_4</td>\n",
       "      <td>Ulanova TI</td>\n",
       "      <td>5</td>\n",
       "      <td>67</td>\n",
       "      <td>no</td>\n",
       "      <td>2009</td>\n",
       "      <td>-48</td>\n",
       "    </tr>\n",
       "    <tr>\n",
       "      <th>3</th>\n",
       "      <td>Gogol_3_5</td>\n",
       "      <td>Budanova AI</td>\n",
       "      <td>7</td>\n",
       "      <td>189</td>\n",
       "      <td>no</td>\n",
       "      <td>2009</td>\n",
       "      <td>32</td>\n",
       "    </tr>\n",
       "    <tr>\n",
       "      <th>4</th>\n",
       "      <td>Gogol_3_6</td>\n",
       "      <td>Komarov II</td>\n",
       "      <td>2</td>\n",
       "      <td>100</td>\n",
       "      <td>no</td>\n",
       "      <td>2007</td>\n",
       "      <td>58</td>\n",
       "    </tr>\n",
       "    <tr>\n",
       "      <th>5</th>\n",
       "      <td>Gogol_3_7</td>\n",
       "      <td>Komarov DP</td>\n",
       "      <td>5</td>\n",
       "      <td>134</td>\n",
       "      <td>no</td>\n",
       "      <td>2007</td>\n",
       "      <td>19</td>\n",
       "    </tr>\n",
       "    <tr>\n",
       "      <th>6</th>\n",
       "      <td>Grecheskaya_1_45</td>\n",
       "      <td>Abramyan LL</td>\n",
       "      <td>6</td>\n",
       "      <td>234</td>\n",
       "      <td>no</td>\n",
       "      <td>2015</td>\n",
       "      <td>98</td>\n",
       "    </tr>\n",
       "    <tr>\n",
       "      <th>7</th>\n",
       "      <td>Korolova_2_56</td>\n",
       "      <td>Ivanov II</td>\n",
       "      <td>3</td>\n",
       "      <td>145</td>\n",
       "      <td>no</td>\n",
       "      <td>1987</td>\n",
       "      <td>72</td>\n",
       "    </tr>\n",
       "    <tr>\n",
       "      <th>8</th>\n",
       "      <td>Korolova_2_57</td>\n",
       "      <td>Ivanov PI</td>\n",
       "      <td>3</td>\n",
       "      <td>89</td>\n",
       "      <td>no</td>\n",
       "      <td>1987</td>\n",
       "      <td>16</td>\n",
       "    </tr>\n",
       "    <tr>\n",
       "      <th>9</th>\n",
       "      <td>Korolova_2_58</td>\n",
       "      <td>Shatrov IV</td>\n",
       "      <td>6</td>\n",
       "      <td>67</td>\n",
       "      <td>yes</td>\n",
       "      <td>1987</td>\n",
       "      <td>-69</td>\n",
       "    </tr>\n",
       "    <tr>\n",
       "      <th>10</th>\n",
       "      <td>Korolova_2_59</td>\n",
       "      <td>Petrov MM</td>\n",
       "      <td>2</td>\n",
       "      <td>34</td>\n",
       "      <td>yes</td>\n",
       "      <td>1987</td>\n",
       "      <td>-8</td>\n",
       "    </tr>\n",
       "    <tr>\n",
       "      <th>11</th>\n",
       "      <td>Korolova_2_60</td>\n",
       "      <td>Sidorov VK</td>\n",
       "      <td>8</td>\n",
       "      <td>89</td>\n",
       "      <td>yes</td>\n",
       "      <td>1987</td>\n",
       "      <td>-89</td>\n",
       "    </tr>\n",
       "    <tr>\n",
       "      <th>12</th>\n",
       "      <td>Korolova_2_61</td>\n",
       "      <td>Sidorchyk KM</td>\n",
       "      <td>5</td>\n",
       "      <td>56</td>\n",
       "      <td>yes</td>\n",
       "      <td>1987</td>\n",
       "      <td>-59</td>\n",
       "    </tr>\n",
       "    <tr>\n",
       "      <th>13</th>\n",
       "      <td>Malaya Arnautskaya_23_6</td>\n",
       "      <td>Kogan MG</td>\n",
       "      <td>1</td>\n",
       "      <td>47</td>\n",
       "      <td>no</td>\n",
       "      <td>1954</td>\n",
       "      <td>26</td>\n",
       "    </tr>\n",
       "    <tr>\n",
       "      <th>14</th>\n",
       "      <td>Malaya Arnautskaya_23_7</td>\n",
       "      <td>Polyakova MO</td>\n",
       "      <td>1</td>\n",
       "      <td>56</td>\n",
       "      <td>no</td>\n",
       "      <td>1954</td>\n",
       "      <td>35</td>\n",
       "    </tr>\n",
       "  </tbody>\n",
       "</table>\n",
       "</div>"
      ],
      "text/plain": [
       "                     Adress        Tenant  Quantity_of_people  Meters  \\\n",
       "0                 Gogol_3_2  Ponomarov VD                   3      65   \n",
       "1                 Gogol_3_3  Ponomarov AD                   7     167   \n",
       "2                 Gogol_3_4    Ulanova TI                   5      67   \n",
       "3                 Gogol_3_5   Budanova AI                   7     189   \n",
       "4                 Gogol_3_6    Komarov II                   2     100   \n",
       "5                 Gogol_3_7    Komarov DP                   5     134   \n",
       "6          Grecheskaya_1_45   Abramyan LL                   6     234   \n",
       "7             Korolova_2_56     Ivanov II                   3     145   \n",
       "8             Korolova_2_57     Ivanov PI                   3      89   \n",
       "9             Korolova_2_58    Shatrov IV                   6      67   \n",
       "10            Korolova_2_59     Petrov MM                   2      34   \n",
       "11            Korolova_2_60    Sidorov VK                   8      89   \n",
       "12            Korolova_2_61  Sidorchyk KM                   5      56   \n",
       "13  Malaya Arnautskaya_23_6      Kogan MG                   1      47   \n",
       "14  Malaya Arnautskaya_23_7  Polyakova MO                   1      56   \n",
       "\n",
       "   Privileges  Year_of_registration  Surplas  \n",
       "0         yes                  1976       -8  \n",
       "1         yes                  1976       10  \n",
       "2          no                  2009      -48  \n",
       "3          no                  2009       32  \n",
       "4          no                  2007       58  \n",
       "5          no                  2007       19  \n",
       "6          no                  2015       98  \n",
       "7          no                  1987       72  \n",
       "8          no                  1987       16  \n",
       "9         yes                  1987      -69  \n",
       "10        yes                  1987       -8  \n",
       "11        yes                  1987      -89  \n",
       "12        yes                  1987      -59  \n",
       "13         no                  1954       26  \n",
       "14         no                  1954       35  "
      ]
     },
     "execution_count": 41,
     "metadata": {},
     "output_type": "execute_result"
    }
   ],
   "source": [
    "df['Surplas'] = np.select([df['Quantity_of_people'] > 2, df['Quantity_of_people'] <= 2], [df['Quantity_of_people'] * 21 + 10, df['Quantity_of_people'] * 21])\n",
    "df['Surplas'] = df['Meters'] - df['Surplas']\n",
    "df"
   ]
  },
  {
   "cell_type": "code",
   "execution_count": 45,
   "metadata": {},
   "outputs": [
    {
     "ename": "ValueError",
     "evalue": "Boolean array expected for the condition, not object",
     "output_type": "error",
     "traceback": [
      "\u001B[0;31m---------------------------------------------------------------------------\u001B[0m",
      "\u001B[0;31mValueError\u001B[0m                                Traceback (most recent call last)",
      "\u001B[0;32m<ipython-input-45-74870862ba6a>\u001B[0m in \u001B[0;36m<module>\u001B[0;34m\u001B[0m\n\u001B[0;32m----> 1\u001B[0;31m \u001B[0mdf\u001B[0m\u001B[0;34m[\u001B[0m\u001B[0mdf\u001B[0m\u001B[0;34m[\u001B[0m\u001B[0mdf\u001B[0m\u001B[0;34m[\u001B[0m\u001B[0;34m'Surplas'\u001B[0m\u001B[0;34m]\u001B[0m \u001B[0;34m<=\u001B[0m \u001B[0;36m0\u001B[0m\u001B[0;34m]\u001B[0m\u001B[0;34m]\u001B[0m\u001B[0;34m[\u001B[0m\u001B[0;34m'Surplas'\u001B[0m\u001B[0;34m]\u001B[0m \u001B[0;34m=\u001B[0m \u001B[0;36m0\u001B[0m\u001B[0;34m\u001B[0m\u001B[0;34m\u001B[0m\u001B[0m\n\u001B[0m",
      "\u001B[0;32m~/Documents/education/practice-tasks/venv/lib/python3.8/site-packages/pandas/core/frame.py\u001B[0m in \u001B[0;36m__getitem__\u001B[0;34m(self, key)\u001B[0m\n\u001B[1;32m   2891\u001B[0m         \u001B[0;31m# Do we have a (boolean) DataFrame?\u001B[0m\u001B[0;34m\u001B[0m\u001B[0;34m\u001B[0m\u001B[0;34m\u001B[0m\u001B[0m\n\u001B[1;32m   2892\u001B[0m         \u001B[0;32mif\u001B[0m \u001B[0misinstance\u001B[0m\u001B[0;34m(\u001B[0m\u001B[0mkey\u001B[0m\u001B[0;34m,\u001B[0m \u001B[0mDataFrame\u001B[0m\u001B[0;34m)\u001B[0m\u001B[0;34m:\u001B[0m\u001B[0;34m\u001B[0m\u001B[0;34m\u001B[0m\u001B[0m\n\u001B[0;32m-> 2893\u001B[0;31m             \u001B[0;32mreturn\u001B[0m \u001B[0mself\u001B[0m\u001B[0;34m.\u001B[0m\u001B[0mwhere\u001B[0m\u001B[0;34m(\u001B[0m\u001B[0mkey\u001B[0m\u001B[0;34m)\u001B[0m\u001B[0;34m\u001B[0m\u001B[0;34m\u001B[0m\u001B[0m\n\u001B[0m\u001B[1;32m   2894\u001B[0m \u001B[0;34m\u001B[0m\u001B[0m\n\u001B[1;32m   2895\u001B[0m         \u001B[0;31m# Do we have a (boolean) 1d indexer?\u001B[0m\u001B[0;34m\u001B[0m\u001B[0;34m\u001B[0m\u001B[0;34m\u001B[0m\u001B[0m\n",
      "\u001B[0;32m~/Documents/education/practice-tasks/venv/lib/python3.8/site-packages/pandas/core/generic.py\u001B[0m in \u001B[0;36mwhere\u001B[0;34m(self, cond, other, inplace, axis, level, errors, try_cast)\u001B[0m\n\u001B[1;32m   9002\u001B[0m         \"\"\"\n\u001B[1;32m   9003\u001B[0m         \u001B[0mother\u001B[0m \u001B[0;34m=\u001B[0m \u001B[0mcom\u001B[0m\u001B[0;34m.\u001B[0m\u001B[0mapply_if_callable\u001B[0m\u001B[0;34m(\u001B[0m\u001B[0mother\u001B[0m\u001B[0;34m,\u001B[0m \u001B[0mself\u001B[0m\u001B[0;34m)\u001B[0m\u001B[0;34m\u001B[0m\u001B[0;34m\u001B[0m\u001B[0m\n\u001B[0;32m-> 9004\u001B[0;31m         return self._where(\n\u001B[0m\u001B[1;32m   9005\u001B[0m             \u001B[0mcond\u001B[0m\u001B[0;34m,\u001B[0m \u001B[0mother\u001B[0m\u001B[0;34m,\u001B[0m \u001B[0minplace\u001B[0m\u001B[0;34m,\u001B[0m \u001B[0maxis\u001B[0m\u001B[0;34m,\u001B[0m \u001B[0mlevel\u001B[0m\u001B[0;34m,\u001B[0m \u001B[0merrors\u001B[0m\u001B[0;34m=\u001B[0m\u001B[0merrors\u001B[0m\u001B[0;34m,\u001B[0m \u001B[0mtry_cast\u001B[0m\u001B[0;34m=\u001B[0m\u001B[0mtry_cast\u001B[0m\u001B[0;34m\u001B[0m\u001B[0;34m\u001B[0m\u001B[0m\n\u001B[1;32m   9006\u001B[0m         )\n",
      "\u001B[0;32m~/Documents/education/practice-tasks/venv/lib/python3.8/site-packages/pandas/core/generic.py\u001B[0m in \u001B[0;36m_where\u001B[0;34m(self, cond, other, inplace, axis, level, errors, try_cast)\u001B[0m\n\u001B[1;32m   8764\u001B[0m                 \u001B[0;32mfor\u001B[0m \u001B[0mdt\u001B[0m \u001B[0;32min\u001B[0m \u001B[0mcond\u001B[0m\u001B[0;34m.\u001B[0m\u001B[0mdtypes\u001B[0m\u001B[0;34m:\u001B[0m\u001B[0;34m\u001B[0m\u001B[0;34m\u001B[0m\u001B[0m\n\u001B[1;32m   8765\u001B[0m                     \u001B[0;32mif\u001B[0m \u001B[0;32mnot\u001B[0m \u001B[0mis_bool_dtype\u001B[0m\u001B[0;34m(\u001B[0m\u001B[0mdt\u001B[0m\u001B[0;34m)\u001B[0m\u001B[0;34m:\u001B[0m\u001B[0;34m\u001B[0m\u001B[0;34m\u001B[0m\u001B[0m\n\u001B[0;32m-> 8766\u001B[0;31m                         \u001B[0;32mraise\u001B[0m \u001B[0mValueError\u001B[0m\u001B[0;34m(\u001B[0m\u001B[0mmsg\u001B[0m\u001B[0;34m.\u001B[0m\u001B[0mformat\u001B[0m\u001B[0;34m(\u001B[0m\u001B[0mdtype\u001B[0m\u001B[0;34m=\u001B[0m\u001B[0mdt\u001B[0m\u001B[0;34m)\u001B[0m\u001B[0;34m)\u001B[0m\u001B[0;34m\u001B[0m\u001B[0;34m\u001B[0m\u001B[0m\n\u001B[0m\u001B[1;32m   8767\u001B[0m         \u001B[0;32melse\u001B[0m\u001B[0;34m:\u001B[0m\u001B[0;34m\u001B[0m\u001B[0;34m\u001B[0m\u001B[0m\n\u001B[1;32m   8768\u001B[0m             \u001B[0;31m# GH#21947 we have an empty DataFrame/Series, could be object-dtype\u001B[0m\u001B[0;34m\u001B[0m\u001B[0;34m\u001B[0m\u001B[0;34m\u001B[0m\u001B[0m\n",
      "\u001B[0;31mValueError\u001B[0m: Boolean array expected for the condition, not object"
     ]
    }
   ],
   "source": [
    "df[df[df['Surplas'] <= 0]]['Surplas'] = 0"
   ]
  },
  {
   "cell_type": "code",
   "execution_count": null,
   "metadata": {
    "pycharm": {
     "name": "#%%\n"
    }
   },
   "outputs": [],
   "source": [
    "# task 1\n",
    "dt1 = df.loc[df['Privileges'] == 'yes']\n",
    "dt1"
   ]
  },
  {
   "cell_type": "code",
   "execution_count": null,
   "metadata": {
    "pycharm": {
     "name": "#%%\n"
    }
   },
   "outputs": [],
   "source": [
    "#task 5\n",
    "dt5 = dt1.loc[dt1['Year_of_registration'] > 1980]\n",
    "dt5\n"
   ]
  }
 ],
 "metadata": {
  "kernelspec": {
   "display_name": "Python 3",
   "language": "python",
   "name": "python3"
  },
  "language_info": {
   "codemirror_mode": {
    "name": "ipython",
    "version": 3
   },
   "file_extension": ".py",
   "mimetype": "text/x-python",
   "name": "python",
   "nbconvert_exporter": "python",
   "pygments_lexer": "ipython3",
   "version": "3.8.2"
  }
 },
 "nbformat": 4,
 "nbformat_minor": 1
}