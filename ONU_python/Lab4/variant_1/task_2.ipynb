{
 "cells": [
  {
   "cell_type": "code",
   "execution_count": 25,
   "metadata": {
    "collapsed": true,
    "pycharm": {
     "name": "#%%\n"
    }
   },
   "outputs": [
    {
     "ename": "ValueError",
     "evalue": "The truth value of a Series is ambiguous. Use a.empty, a.bool(), a.item(), a.any() or a.all().",
     "output_type": "error",
     "traceback": [
      "\u001B[1;31m---------------------------------------------------------------------------\u001B[0m",
      "\u001B[1;31mValueError\u001B[0m                                Traceback (most recent call last)",
      "\u001B[1;32m<ipython-input-25-59bc81ba5a99>\u001B[0m in \u001B[0;36m<module>\u001B[1;34m\u001B[0m\n\u001B[0;32m     19\u001B[0m \u001B[0mdf\u001B[0m \u001B[1;33m=\u001B[0m \u001B[0mpd\u001B[0m\u001B[1;33m.\u001B[0m\u001B[0mread_excel\u001B[0m\u001B[1;33m(\u001B[0m\u001B[1;34m'filter1.xlsx'\u001B[0m\u001B[1;33m)\u001B[0m\u001B[1;33m\u001B[0m\u001B[1;33m\u001B[0m\u001B[0m\n\u001B[0;32m     20\u001B[0m \u001B[0mdf\u001B[0m\u001B[1;33m[\u001B[0m\u001B[1;34m'Surplas'\u001B[0m\u001B[1;33m]\u001B[0m \u001B[1;33m=\u001B[0m \u001B[1;34m\" \"\u001B[0m\u001B[1;33m\u001B[0m\u001B[1;33m\u001B[0m\u001B[0m\n\u001B[1;32m---> 21\u001B[1;33m \u001B[0msurplas\u001B[0m\u001B[1;33m(\u001B[0m\u001B[0mdf\u001B[0m\u001B[1;33m[\u001B[0m\u001B[1;34m'Quantity_of_people'\u001B[0m\u001B[1;33m]\u001B[0m\u001B[1;33m,\u001B[0m \u001B[0mdf\u001B[0m\u001B[1;33m[\u001B[0m\u001B[1;34m'Meters'\u001B[0m\u001B[1;33m]\u001B[0m\u001B[1;33m)\u001B[0m\u001B[1;33m\u001B[0m\u001B[1;33m\u001B[0m\u001B[0m\n\u001B[0m\u001B[0;32m     22\u001B[0m \u001B[1;33m\u001B[0m\u001B[0m\n\u001B[0;32m     23\u001B[0m \u001B[1;31m# if df['Quantity_of_people'] > 2:\u001B[0m\u001B[1;33m\u001B[0m\u001B[1;33m\u001B[0m\u001B[1;33m\u001B[0m\u001B[0m\n",
      "\u001B[1;32m<ipython-input-25-59bc81ba5a99>\u001B[0m in \u001B[0;36msurplas\u001B[1;34m(people, meters)\u001B[0m\n\u001B[0;32m      6\u001B[0m     \u001B[0mres\u001B[0m \u001B[1;33m=\u001B[0m \u001B[1;36m0\u001B[0m\u001B[1;33m\u001B[0m\u001B[1;33m\u001B[0m\u001B[0m\n\u001B[0;32m      7\u001B[0m     \u001B[0mres_meters\u001B[0m \u001B[1;33m=\u001B[0m \u001B[1;36m0\u001B[0m\u001B[1;33m\u001B[0m\u001B[1;33m\u001B[0m\u001B[0m\n\u001B[1;32m----> 8\u001B[1;33m     \u001B[1;32mif\u001B[0m \u001B[0mpeople\u001B[0m \u001B[1;33m>\u001B[0m \u001B[1;36m2\u001B[0m\u001B[1;33m:\u001B[0m\u001B[1;33m\u001B[0m\u001B[1;33m\u001B[0m\u001B[0m\n\u001B[0m\u001B[0;32m      9\u001B[0m         \u001B[0mres_meters\u001B[0m \u001B[1;33m=\u001B[0m \u001B[0mpeople\u001B[0m \u001B[1;33m*\u001B[0m \u001B[1;36m21\u001B[0m \u001B[1;33m+\u001B[0m \u001B[1;36m10\u001B[0m\u001B[1;33m\u001B[0m\u001B[1;33m\u001B[0m\u001B[0m\n\u001B[0;32m     10\u001B[0m     \u001B[1;32melse\u001B[0m\u001B[1;33m:\u001B[0m\u001B[1;33m\u001B[0m\u001B[1;33m\u001B[0m\u001B[0m\n",
      "\u001B[1;32mD:\\My_Projects\\Python\\practice-tasks\\venv\\lib\\site-packages\\pandas\\core\\generic.py\u001B[0m in \u001B[0;36m__nonzero__\u001B[1;34m(self)\u001B[0m\n\u001B[0;32m   1327\u001B[0m \u001B[1;33m\u001B[0m\u001B[0m\n\u001B[0;32m   1328\u001B[0m     \u001B[1;32mdef\u001B[0m \u001B[0m__nonzero__\u001B[0m\u001B[1;33m(\u001B[0m\u001B[0mself\u001B[0m\u001B[1;33m)\u001B[0m\u001B[1;33m:\u001B[0m\u001B[1;33m\u001B[0m\u001B[1;33m\u001B[0m\u001B[0m\n\u001B[1;32m-> 1329\u001B[1;33m         raise ValueError(\n\u001B[0m\u001B[0;32m   1330\u001B[0m             \u001B[1;34mf\"The truth value of a {type(self).__name__} is ambiguous. \"\u001B[0m\u001B[1;33m\u001B[0m\u001B[1;33m\u001B[0m\u001B[0m\n\u001B[0;32m   1331\u001B[0m             \u001B[1;34m\"Use a.empty, a.bool(), a.item(), a.any() or a.all().\"\u001B[0m\u001B[1;33m\u001B[0m\u001B[1;33m\u001B[0m\u001B[0m\n",
      "\u001B[1;31mValueError\u001B[0m: The truth value of a Series is ambiguous. Use a.empty, a.bool(), a.item(), a.any() or a.all()."
     ]
    }
   ],
   "source": [
    "import pandas as pd\n",
    "import seaborn as sns\n",
    "sns.set()\n",
    "\n",
    "def surplas(people, meters):\n",
    "    res = 0\n",
    "    res_meters = 0\n",
    "    if people > 2:\n",
    "        res_meters = people * 21 + 10\n",
    "    else:\n",
    "        res_meters = people * 21\n",
    "    res = meters - res_meters\n",
    "    if res <= 0:\n",
    "        print('no')\n",
    "    else:\n",
    "        print(res)\n",
    "\n",
    "\n",
    "df = pd.read_excel('filter1.xlsx')\n",
    "df['Surplas'] = \" \"\n",
    "surplas(df['Quantity_of_people'], df['Meters'])\n",
    "df"
   ]
  },
  {
   "cell_type": "code",
   "execution_count": 18,
   "outputs": [
    {
     "data": {
      "text/plain": "           Adress        Tenant  Quantity_of_people  Meters Privileges  \\\n0       Gogol_3_2  Ponomarov VD                   3      65        yes   \n1       Gogol_3_3  Ponomarov AD                   7     167        yes   \n9   Korolova_2_58    Shatrov IV                   6      67        yes   \n10  Korolova_2_59     Petrov MM                   2      34        yes   \n11  Korolova_2_60    Sidorov VK                   8      89        yes   \n12  Korolova_2_61  Sidorchyk KM                   5      56        yes   \n\n    Year_of_registration Surplas  \n0                   1976          \n1                   1976          \n9                   1987          \n10                  1987          \n11                  1987          \n12                  1987          ",
      "text/html": "<div>\n<style scoped>\n    .dataframe tbody tr th:only-of-type {\n        vertical-align: middle;\n    }\n\n    .dataframe tbody tr th {\n        vertical-align: top;\n    }\n\n    .dataframe thead th {\n        text-align: right;\n    }\n</style>\n<table border=\"1\" class=\"dataframe\">\n  <thead>\n    <tr style=\"text-align: right;\">\n      <th></th>\n      <th>Adress</th>\n      <th>Tenant</th>\n      <th>Quantity_of_people</th>\n      <th>Meters</th>\n      <th>Privileges</th>\n      <th>Year_of_registration</th>\n      <th>Surplas</th>\n    </tr>\n  </thead>\n  <tbody>\n    <tr>\n      <th>0</th>\n      <td>Gogol_3_2</td>\n      <td>Ponomarov VD</td>\n      <td>3</td>\n      <td>65</td>\n      <td>yes</td>\n      <td>1976</td>\n      <td></td>\n    </tr>\n    <tr>\n      <th>1</th>\n      <td>Gogol_3_3</td>\n      <td>Ponomarov AD</td>\n      <td>7</td>\n      <td>167</td>\n      <td>yes</td>\n      <td>1976</td>\n      <td></td>\n    </tr>\n    <tr>\n      <th>9</th>\n      <td>Korolova_2_58</td>\n      <td>Shatrov IV</td>\n      <td>6</td>\n      <td>67</td>\n      <td>yes</td>\n      <td>1987</td>\n      <td></td>\n    </tr>\n    <tr>\n      <th>10</th>\n      <td>Korolova_2_59</td>\n      <td>Petrov MM</td>\n      <td>2</td>\n      <td>34</td>\n      <td>yes</td>\n      <td>1987</td>\n      <td></td>\n    </tr>\n    <tr>\n      <th>11</th>\n      <td>Korolova_2_60</td>\n      <td>Sidorov VK</td>\n      <td>8</td>\n      <td>89</td>\n      <td>yes</td>\n      <td>1987</td>\n      <td></td>\n    </tr>\n    <tr>\n      <th>12</th>\n      <td>Korolova_2_61</td>\n      <td>Sidorchyk KM</td>\n      <td>5</td>\n      <td>56</td>\n      <td>yes</td>\n      <td>1987</td>\n      <td></td>\n    </tr>\n  </tbody>\n</table>\n</div>"
     },
     "execution_count": 18,
     "metadata": {},
     "output_type": "execute_result"
    }
   ],
   "source": [
    "# task 1\n",
    "dt1 = df.loc[df['Privileges'] == 'yes']\n",
    "dt1"
   ],
   "metadata": {
    "collapsed": false,
    "pycharm": {
     "name": "#%%\n"
    }
   }
  },
  {
   "cell_type": "code",
   "execution_count": null,
   "outputs": [],
   "source": [
    "#task 2\n",
    "\n"
   ],
   "metadata": {
    "collapsed": false,
    "pycharm": {
     "name": "#%%\n"
    }
   }
  },
  {
   "cell_type": "code",
   "execution_count": null,
   "outputs": [],
   "source": [
    "#task 3\n",
    "dt3 = df.loc[df['Meters'] > 100]\n",
    "dt3"
   ],
   "metadata": {
    "collapsed": false,
    "pycharm": {
     "name": "#%%\n"
    }
   }
  },
  {
   "cell_type": "code",
   "execution_count": null,
   "outputs": [],
   "source": [
    "#task 4\n",
    "dt4 = df.loc[df['Year_of_registration'] >= 1970]\n",
    "dt4_res = dt4.loc[dt4['Year_of_registration'] <= 1990]\n",
    "dt4_res"
   ],
   "metadata": {
    "collapsed": false,
    "pycharm": {
     "name": "#%%\n"
    }
   }
  },
  {
   "cell_type": "code",
   "execution_count": null,
   "outputs": [],
   "source": [
    "#task 5\n",
    "dt5 = dt1.loc[dt1['Year_of_registration'] > 1980]\n",
    "dt5\n"
   ],
   "metadata": {
    "collapsed": false,
    "pycharm": {
     "name": "#%%\n"
    }
   }
  }
 ],
 "metadata": {
  "kernelspec": {
   "name": "pycharm-441b177b",
   "language": "python",
   "display_name": "PyCharm (practice-tasks)"
  },
  "language_info": {
   "codemirror_mode": {
    "name": "ipython",
    "version": 2
   },
   "file_extension": ".py",
   "mimetype": "text/x-python",
   "name": "python",
   "nbconvert_exporter": "python",
   "pygments_lexer": "ipython2",
   "version": "2.7.6"
  }
 },
 "nbformat": 4,
 "nbformat_minor": 0
}