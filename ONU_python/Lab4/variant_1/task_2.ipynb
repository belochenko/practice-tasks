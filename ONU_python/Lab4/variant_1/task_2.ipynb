{
 "cells": [
  {
   "cell_type": "code",
   "execution_count": 1,
   "metadata": {
    "pycharm": {
     "name": "#%%\n"
    }
   },
   "outputs": [],
   "source": [
    "import pandas as pd\n",
    "import numpy as np"
   ]
  },
  {
   "cell_type": "code",
   "execution_count": 2,
   "metadata": {
    "pycharm": {
     "name": "#%%\n"
    }
   },
   "outputs": [],
   "source": [
    "df = pd.read_excel('filter1.xlsx')"
   ]
  },
  {
   "cell_type": "code",
   "execution_count": 3,
   "metadata": {},
   "outputs": [],
   "source": [
    "df['Surplas'] = np.select([df['Quantity_of_people'] > 2, df['Quantity_of_people'] <= 2], [df['Quantity_of_people'] * 21 + 10, df['Quantity_of_people'] * 21])\n",
    "df['Surplas'] = df['Meters'] - df['Surplas']"
   ]
  },
  {
   "cell_type": "code",
   "execution_count": 4,
   "metadata": {
    "pycharm": {
     "name": "#%%\n"
    }
   },
   "outputs": [
    {
     "data": {
      "text/plain": "                     Adress        Tenant  Quantity_of_people  Meters  \\\n0                 Gogol_3_2  Ponomarov VD                   3      65   \n1                 Gogol_3_3  Ponomarov AD                   7     167   \n2                 Gogol_3_4    Ulanova TI                   5      67   \n3                 Gogol_3_5   Budanova AI                   7     189   \n4                 Gogol_3_6    Komarov II                   2     100   \n5                 Gogol_3_7    Komarov DP                   5     134   \n6          Grecheskaya_1_45   Abramyan LL                   6     234   \n7             Korolova_2_56     Ivanov II                   3     145   \n8             Korolova_2_57     Ivanov PI                   3      89   \n9             Korolova_2_58    Shatrov IV                   6      67   \n10            Korolova_2_59     Petrov MM                   2      34   \n11            Korolova_2_60    Sidorov VK                   8      89   \n12            Korolova_2_61  Sidorchyk KM                   5      56   \n13  Malaya Arnautskaya_23_6      Kogan MG                   1      47   \n14  Malaya Arnautskaya_23_7  Polyakova MO                   1      56   \n\n   Privileges  Year_of_registration  Surplas  \n0         yes                  1976        0  \n1         yes                  1976       10  \n2          no                  2009        0  \n3          no                  2009       32  \n4          no                  2007       58  \n5          no                  2007       19  \n6          no                  2015       98  \n7          no                  1987       72  \n8          no                  1987       16  \n9         yes                  1987        0  \n10        yes                  1987        0  \n11        yes                  1987        0  \n12        yes                  1987        0  \n13         no                  1954       26  \n14         no                  1954       35  ",
      "text/html": "<div>\n<style scoped>\n    .dataframe tbody tr th:only-of-type {\n        vertical-align: middle;\n    }\n\n    .dataframe tbody tr th {\n        vertical-align: top;\n    }\n\n    .dataframe thead th {\n        text-align: right;\n    }\n</style>\n<table border=\"1\" class=\"dataframe\">\n  <thead>\n    <tr style=\"text-align: right;\">\n      <th></th>\n      <th>Adress</th>\n      <th>Tenant</th>\n      <th>Quantity_of_people</th>\n      <th>Meters</th>\n      <th>Privileges</th>\n      <th>Year_of_registration</th>\n      <th>Surplas</th>\n    </tr>\n  </thead>\n  <tbody>\n    <tr>\n      <th>0</th>\n      <td>Gogol_3_2</td>\n      <td>Ponomarov VD</td>\n      <td>3</td>\n      <td>65</td>\n      <td>yes</td>\n      <td>1976</td>\n      <td>0</td>\n    </tr>\n    <tr>\n      <th>1</th>\n      <td>Gogol_3_3</td>\n      <td>Ponomarov AD</td>\n      <td>7</td>\n      <td>167</td>\n      <td>yes</td>\n      <td>1976</td>\n      <td>10</td>\n    </tr>\n    <tr>\n      <th>2</th>\n      <td>Gogol_3_4</td>\n      <td>Ulanova TI</td>\n      <td>5</td>\n      <td>67</td>\n      <td>no</td>\n      <td>2009</td>\n      <td>0</td>\n    </tr>\n    <tr>\n      <th>3</th>\n      <td>Gogol_3_5</td>\n      <td>Budanova AI</td>\n      <td>7</td>\n      <td>189</td>\n      <td>no</td>\n      <td>2009</td>\n      <td>32</td>\n    </tr>\n    <tr>\n      <th>4</th>\n      <td>Gogol_3_6</td>\n      <td>Komarov II</td>\n      <td>2</td>\n      <td>100</td>\n      <td>no</td>\n      <td>2007</td>\n      <td>58</td>\n    </tr>\n    <tr>\n      <th>5</th>\n      <td>Gogol_3_7</td>\n      <td>Komarov DP</td>\n      <td>5</td>\n      <td>134</td>\n      <td>no</td>\n      <td>2007</td>\n      <td>19</td>\n    </tr>\n    <tr>\n      <th>6</th>\n      <td>Grecheskaya_1_45</td>\n      <td>Abramyan LL</td>\n      <td>6</td>\n      <td>234</td>\n      <td>no</td>\n      <td>2015</td>\n      <td>98</td>\n    </tr>\n    <tr>\n      <th>7</th>\n      <td>Korolova_2_56</td>\n      <td>Ivanov II</td>\n      <td>3</td>\n      <td>145</td>\n      <td>no</td>\n      <td>1987</td>\n      <td>72</td>\n    </tr>\n    <tr>\n      <th>8</th>\n      <td>Korolova_2_57</td>\n      <td>Ivanov PI</td>\n      <td>3</td>\n      <td>89</td>\n      <td>no</td>\n      <td>1987</td>\n      <td>16</td>\n    </tr>\n    <tr>\n      <th>9</th>\n      <td>Korolova_2_58</td>\n      <td>Shatrov IV</td>\n      <td>6</td>\n      <td>67</td>\n      <td>yes</td>\n      <td>1987</td>\n      <td>0</td>\n    </tr>\n    <tr>\n      <th>10</th>\n      <td>Korolova_2_59</td>\n      <td>Petrov MM</td>\n      <td>2</td>\n      <td>34</td>\n      <td>yes</td>\n      <td>1987</td>\n      <td>0</td>\n    </tr>\n    <tr>\n      <th>11</th>\n      <td>Korolova_2_60</td>\n      <td>Sidorov VK</td>\n      <td>8</td>\n      <td>89</td>\n      <td>yes</td>\n      <td>1987</td>\n      <td>0</td>\n    </tr>\n    <tr>\n      <th>12</th>\n      <td>Korolova_2_61</td>\n      <td>Sidorchyk KM</td>\n      <td>5</td>\n      <td>56</td>\n      <td>yes</td>\n      <td>1987</td>\n      <td>0</td>\n    </tr>\n    <tr>\n      <th>13</th>\n      <td>Malaya Arnautskaya_23_6</td>\n      <td>Kogan MG</td>\n      <td>1</td>\n      <td>47</td>\n      <td>no</td>\n      <td>1954</td>\n      <td>26</td>\n    </tr>\n    <tr>\n      <th>14</th>\n      <td>Malaya Arnautskaya_23_7</td>\n      <td>Polyakova MO</td>\n      <td>1</td>\n      <td>56</td>\n      <td>no</td>\n      <td>1954</td>\n      <td>35</td>\n    </tr>\n  </tbody>\n</table>\n</div>"
     },
     "execution_count": 4,
     "metadata": {},
     "output_type": "execute_result"
    }
   ],
   "source": [
    "df.loc[df['Surplas'] <= 0 , 'Surplas'] = 0\n",
    "df"
   ]
  },
  {
   "cell_type": "code",
   "execution_count": 5,
   "metadata": {
    "pycharm": {
     "name": "#%%\n"
    }
   },
   "outputs": [
    {
     "data": {
      "text/plain": "           Adress        Tenant  Quantity_of_people  Meters Privileges  \\\n0       Gogol_3_2  Ponomarov VD                   3      65        yes   \n1       Gogol_3_3  Ponomarov AD                   7     167        yes   \n9   Korolova_2_58    Shatrov IV                   6      67        yes   \n10  Korolova_2_59     Petrov MM                   2      34        yes   \n11  Korolova_2_60    Sidorov VK                   8      89        yes   \n12  Korolova_2_61  Sidorchyk KM                   5      56        yes   \n\n    Year_of_registration  Surplas  \n0                   1976        0  \n1                   1976       10  \n9                   1987        0  \n10                  1987        0  \n11                  1987        0  \n12                  1987        0  ",
      "text/html": "<div>\n<style scoped>\n    .dataframe tbody tr th:only-of-type {\n        vertical-align: middle;\n    }\n\n    .dataframe tbody tr th {\n        vertical-align: top;\n    }\n\n    .dataframe thead th {\n        text-align: right;\n    }\n</style>\n<table border=\"1\" class=\"dataframe\">\n  <thead>\n    <tr style=\"text-align: right;\">\n      <th></th>\n      <th>Adress</th>\n      <th>Tenant</th>\n      <th>Quantity_of_people</th>\n      <th>Meters</th>\n      <th>Privileges</th>\n      <th>Year_of_registration</th>\n      <th>Surplas</th>\n    </tr>\n  </thead>\n  <tbody>\n    <tr>\n      <th>0</th>\n      <td>Gogol_3_2</td>\n      <td>Ponomarov VD</td>\n      <td>3</td>\n      <td>65</td>\n      <td>yes</td>\n      <td>1976</td>\n      <td>0</td>\n    </tr>\n    <tr>\n      <th>1</th>\n      <td>Gogol_3_3</td>\n      <td>Ponomarov AD</td>\n      <td>7</td>\n      <td>167</td>\n      <td>yes</td>\n      <td>1976</td>\n      <td>10</td>\n    </tr>\n    <tr>\n      <th>9</th>\n      <td>Korolova_2_58</td>\n      <td>Shatrov IV</td>\n      <td>6</td>\n      <td>67</td>\n      <td>yes</td>\n      <td>1987</td>\n      <td>0</td>\n    </tr>\n    <tr>\n      <th>10</th>\n      <td>Korolova_2_59</td>\n      <td>Petrov MM</td>\n      <td>2</td>\n      <td>34</td>\n      <td>yes</td>\n      <td>1987</td>\n      <td>0</td>\n    </tr>\n    <tr>\n      <th>11</th>\n      <td>Korolova_2_60</td>\n      <td>Sidorov VK</td>\n      <td>8</td>\n      <td>89</td>\n      <td>yes</td>\n      <td>1987</td>\n      <td>0</td>\n    </tr>\n    <tr>\n      <th>12</th>\n      <td>Korolova_2_61</td>\n      <td>Sidorchyk KM</td>\n      <td>5</td>\n      <td>56</td>\n      <td>yes</td>\n      <td>1987</td>\n      <td>0</td>\n    </tr>\n  </tbody>\n</table>\n</div>"
     },
     "execution_count": 5,
     "metadata": {},
     "output_type": "execute_result"
    }
   ],
   "source": [
    "# task 1\n",
    "dt1 = df.loc[df['Privileges'] == 'yes']\n",
    "dt1"
   ]
  },
  {
   "cell_type": "code",
   "execution_count": 6,
   "metadata": {
    "pycharm": {
     "name": "#%%\n"
    }
   },
   "outputs": [
    {
     "data": {
      "text/plain": "           Adress        Tenant  Quantity_of_people  Meters Privileges  \\\n0       Gogol_3_2  Ponomarov VD                   3      65        yes   \n9   Korolova_2_58    Shatrov IV                   6      67        yes   \n10  Korolova_2_59     Petrov MM                   2      34        yes   \n11  Korolova_2_60    Sidorov VK                   8      89        yes   \n12  Korolova_2_61  Sidorchyk KM                   5      56        yes   \n\n    Year_of_registration  Surplas  \n0                   1976        0  \n9                   1987        0  \n10                  1987        0  \n11                  1987        0  \n12                  1987        0  ",
      "text/html": "<div>\n<style scoped>\n    .dataframe tbody tr th:only-of-type {\n        vertical-align: middle;\n    }\n\n    .dataframe tbody tr th {\n        vertical-align: top;\n    }\n\n    .dataframe thead th {\n        text-align: right;\n    }\n</style>\n<table border=\"1\" class=\"dataframe\">\n  <thead>\n    <tr style=\"text-align: right;\">\n      <th></th>\n      <th>Adress</th>\n      <th>Tenant</th>\n      <th>Quantity_of_people</th>\n      <th>Meters</th>\n      <th>Privileges</th>\n      <th>Year_of_registration</th>\n      <th>Surplas</th>\n    </tr>\n  </thead>\n  <tbody>\n    <tr>\n      <th>0</th>\n      <td>Gogol_3_2</td>\n      <td>Ponomarov VD</td>\n      <td>3</td>\n      <td>65</td>\n      <td>yes</td>\n      <td>1976</td>\n      <td>0</td>\n    </tr>\n    <tr>\n      <th>9</th>\n      <td>Korolova_2_58</td>\n      <td>Shatrov IV</td>\n      <td>6</td>\n      <td>67</td>\n      <td>yes</td>\n      <td>1987</td>\n      <td>0</td>\n    </tr>\n    <tr>\n      <th>10</th>\n      <td>Korolova_2_59</td>\n      <td>Petrov MM</td>\n      <td>2</td>\n      <td>34</td>\n      <td>yes</td>\n      <td>1987</td>\n      <td>0</td>\n    </tr>\n    <tr>\n      <th>11</th>\n      <td>Korolova_2_60</td>\n      <td>Sidorov VK</td>\n      <td>8</td>\n      <td>89</td>\n      <td>yes</td>\n      <td>1987</td>\n      <td>0</td>\n    </tr>\n    <tr>\n      <th>12</th>\n      <td>Korolova_2_61</td>\n      <td>Sidorchyk KM</td>\n      <td>5</td>\n      <td>56</td>\n      <td>yes</td>\n      <td>1987</td>\n      <td>0</td>\n    </tr>\n  </tbody>\n</table>\n</div>"
     },
     "execution_count": 6,
     "metadata": {},
     "output_type": "execute_result"
    }
   ],
   "source": [
    "#task 2\n",
    "dt2 = dt1.loc[dt1['Surplas'] == 0]\n",
    "dt2"
   ]
  },
  {
   "cell_type": "code",
   "execution_count": 7,
   "metadata": {
    "pycharm": {
     "name": "#%%\n"
    }
   },
   "outputs": [
    {
     "data": {
      "text/plain": "             Adress        Tenant  Quantity_of_people  Meters Privileges  \\\n1         Gogol_3_3  Ponomarov AD                   7     167        yes   \n3         Gogol_3_5   Budanova AI                   7     189         no   \n5         Gogol_3_7    Komarov DP                   5     134         no   \n6  Grecheskaya_1_45   Abramyan LL                   6     234         no   \n7     Korolova_2_56     Ivanov II                   3     145         no   \n\n   Year_of_registration  Surplas  \n1                  1976       10  \n3                  2009       32  \n5                  2007       19  \n6                  2015       98  \n7                  1987       72  ",
      "text/html": "<div>\n<style scoped>\n    .dataframe tbody tr th:only-of-type {\n        vertical-align: middle;\n    }\n\n    .dataframe tbody tr th {\n        vertical-align: top;\n    }\n\n    .dataframe thead th {\n        text-align: right;\n    }\n</style>\n<table border=\"1\" class=\"dataframe\">\n  <thead>\n    <tr style=\"text-align: right;\">\n      <th></th>\n      <th>Adress</th>\n      <th>Tenant</th>\n      <th>Quantity_of_people</th>\n      <th>Meters</th>\n      <th>Privileges</th>\n      <th>Year_of_registration</th>\n      <th>Surplas</th>\n    </tr>\n  </thead>\n  <tbody>\n    <tr>\n      <th>1</th>\n      <td>Gogol_3_3</td>\n      <td>Ponomarov AD</td>\n      <td>7</td>\n      <td>167</td>\n      <td>yes</td>\n      <td>1976</td>\n      <td>10</td>\n    </tr>\n    <tr>\n      <th>3</th>\n      <td>Gogol_3_5</td>\n      <td>Budanova AI</td>\n      <td>7</td>\n      <td>189</td>\n      <td>no</td>\n      <td>2009</td>\n      <td>32</td>\n    </tr>\n    <tr>\n      <th>5</th>\n      <td>Gogol_3_7</td>\n      <td>Komarov DP</td>\n      <td>5</td>\n      <td>134</td>\n      <td>no</td>\n      <td>2007</td>\n      <td>19</td>\n    </tr>\n    <tr>\n      <th>6</th>\n      <td>Grecheskaya_1_45</td>\n      <td>Abramyan LL</td>\n      <td>6</td>\n      <td>234</td>\n      <td>no</td>\n      <td>2015</td>\n      <td>98</td>\n    </tr>\n    <tr>\n      <th>7</th>\n      <td>Korolova_2_56</td>\n      <td>Ivanov II</td>\n      <td>3</td>\n      <td>145</td>\n      <td>no</td>\n      <td>1987</td>\n      <td>72</td>\n    </tr>\n  </tbody>\n</table>\n</div>"
     },
     "execution_count": 7,
     "metadata": {},
     "output_type": "execute_result"
    }
   ],
   "source": [
    "#task 3\n",
    "dt3 = df.loc[df['Meters'] > 100]\n",
    "dt3"
   ]
  },
  {
   "cell_type": "code",
   "execution_count": 8,
   "metadata": {
    "pycharm": {
     "name": "#%%\n"
    }
   },
   "outputs": [
    {
     "data": {
      "text/plain": "           Adress        Tenant  Quantity_of_people  Meters Privileges  \\\n0       Gogol_3_2  Ponomarov VD                   3      65        yes   \n1       Gogol_3_3  Ponomarov AD                   7     167        yes   \n7   Korolova_2_56     Ivanov II                   3     145         no   \n8   Korolova_2_57     Ivanov PI                   3      89         no   \n9   Korolova_2_58    Shatrov IV                   6      67        yes   \n10  Korolova_2_59     Petrov MM                   2      34        yes   \n11  Korolova_2_60    Sidorov VK                   8      89        yes   \n12  Korolova_2_61  Sidorchyk KM                   5      56        yes   \n\n    Year_of_registration  Surplas  \n0                   1976        0  \n1                   1976       10  \n7                   1987       72  \n8                   1987       16  \n9                   1987        0  \n10                  1987        0  \n11                  1987        0  \n12                  1987        0  ",
      "text/html": "<div>\n<style scoped>\n    .dataframe tbody tr th:only-of-type {\n        vertical-align: middle;\n    }\n\n    .dataframe tbody tr th {\n        vertical-align: top;\n    }\n\n    .dataframe thead th {\n        text-align: right;\n    }\n</style>\n<table border=\"1\" class=\"dataframe\">\n  <thead>\n    <tr style=\"text-align: right;\">\n      <th></th>\n      <th>Adress</th>\n      <th>Tenant</th>\n      <th>Quantity_of_people</th>\n      <th>Meters</th>\n      <th>Privileges</th>\n      <th>Year_of_registration</th>\n      <th>Surplas</th>\n    </tr>\n  </thead>\n  <tbody>\n    <tr>\n      <th>0</th>\n      <td>Gogol_3_2</td>\n      <td>Ponomarov VD</td>\n      <td>3</td>\n      <td>65</td>\n      <td>yes</td>\n      <td>1976</td>\n      <td>0</td>\n    </tr>\n    <tr>\n      <th>1</th>\n      <td>Gogol_3_3</td>\n      <td>Ponomarov AD</td>\n      <td>7</td>\n      <td>167</td>\n      <td>yes</td>\n      <td>1976</td>\n      <td>10</td>\n    </tr>\n    <tr>\n      <th>7</th>\n      <td>Korolova_2_56</td>\n      <td>Ivanov II</td>\n      <td>3</td>\n      <td>145</td>\n      <td>no</td>\n      <td>1987</td>\n      <td>72</td>\n    </tr>\n    <tr>\n      <th>8</th>\n      <td>Korolova_2_57</td>\n      <td>Ivanov PI</td>\n      <td>3</td>\n      <td>89</td>\n      <td>no</td>\n      <td>1987</td>\n      <td>16</td>\n    </tr>\n    <tr>\n      <th>9</th>\n      <td>Korolova_2_58</td>\n      <td>Shatrov IV</td>\n      <td>6</td>\n      <td>67</td>\n      <td>yes</td>\n      <td>1987</td>\n      <td>0</td>\n    </tr>\n    <tr>\n      <th>10</th>\n      <td>Korolova_2_59</td>\n      <td>Petrov MM</td>\n      <td>2</td>\n      <td>34</td>\n      <td>yes</td>\n      <td>1987</td>\n      <td>0</td>\n    </tr>\n    <tr>\n      <th>11</th>\n      <td>Korolova_2_60</td>\n      <td>Sidorov VK</td>\n      <td>8</td>\n      <td>89</td>\n      <td>yes</td>\n      <td>1987</td>\n      <td>0</td>\n    </tr>\n    <tr>\n      <th>12</th>\n      <td>Korolova_2_61</td>\n      <td>Sidorchyk KM</td>\n      <td>5</td>\n      <td>56</td>\n      <td>yes</td>\n      <td>1987</td>\n      <td>0</td>\n    </tr>\n  </tbody>\n</table>\n</div>"
     },
     "execution_count": 8,
     "metadata": {},
     "output_type": "execute_result"
    }
   ],
   "source": [
    "#task 4\n",
    "dt4 = df.loc[df['Year_of_registration'] >= 1970]\n",
    "dt4_res = dt4.loc[dt4['Year_of_registration'] <= 1990]\n",
    "dt4_res"
   ]
  },
  {
   "cell_type": "code",
   "execution_count": 9,
   "metadata": {
    "pycharm": {
     "name": "#%%\n"
    }
   },
   "outputs": [
    {
     "data": {
      "text/plain": "           Adress        Tenant  Quantity_of_people  Meters Privileges  \\\n9   Korolova_2_58    Shatrov IV                   6      67        yes   \n10  Korolova_2_59     Petrov MM                   2      34        yes   \n11  Korolova_2_60    Sidorov VK                   8      89        yes   \n12  Korolova_2_61  Sidorchyk KM                   5      56        yes   \n\n    Year_of_registration  Surplas  \n9                   1987        0  \n10                  1987        0  \n11                  1987        0  \n12                  1987        0  ",
      "text/html": "<div>\n<style scoped>\n    .dataframe tbody tr th:only-of-type {\n        vertical-align: middle;\n    }\n\n    .dataframe tbody tr th {\n        vertical-align: top;\n    }\n\n    .dataframe thead th {\n        text-align: right;\n    }\n</style>\n<table border=\"1\" class=\"dataframe\">\n  <thead>\n    <tr style=\"text-align: right;\">\n      <th></th>\n      <th>Adress</th>\n      <th>Tenant</th>\n      <th>Quantity_of_people</th>\n      <th>Meters</th>\n      <th>Privileges</th>\n      <th>Year_of_registration</th>\n      <th>Surplas</th>\n    </tr>\n  </thead>\n  <tbody>\n    <tr>\n      <th>9</th>\n      <td>Korolova_2_58</td>\n      <td>Shatrov IV</td>\n      <td>6</td>\n      <td>67</td>\n      <td>yes</td>\n      <td>1987</td>\n      <td>0</td>\n    </tr>\n    <tr>\n      <th>10</th>\n      <td>Korolova_2_59</td>\n      <td>Petrov MM</td>\n      <td>2</td>\n      <td>34</td>\n      <td>yes</td>\n      <td>1987</td>\n      <td>0</td>\n    </tr>\n    <tr>\n      <th>11</th>\n      <td>Korolova_2_60</td>\n      <td>Sidorov VK</td>\n      <td>8</td>\n      <td>89</td>\n      <td>yes</td>\n      <td>1987</td>\n      <td>0</td>\n    </tr>\n    <tr>\n      <th>12</th>\n      <td>Korolova_2_61</td>\n      <td>Sidorchyk KM</td>\n      <td>5</td>\n      <td>56</td>\n      <td>yes</td>\n      <td>1987</td>\n      <td>0</td>\n    </tr>\n  </tbody>\n</table>\n</div>"
     },
     "execution_count": 9,
     "metadata": {},
     "output_type": "execute_result"
    }
   ],
   "source": [
    "#task 5\n",
    "dt5 = dt1.loc[dt1['Year_of_registration'] > 1980]\n",
    "dt5"
   ]
  },
  {
   "cell_type": "code",
   "execution_count": 10,
   "metadata": {
    "pycharm": {
     "name": "#%%\n"
    }
   },
   "outputs": [
    {
     "data": {
      "text/plain": "                     Adress        Tenant  Quantity_of_people  Meters  \\\n0                 Gogol_3_2  Ponomarov VD                   3      65   \n1                 Gogol_3_3  Ponomarov AD                   7     167   \n9             Korolova_2_58    Shatrov IV                   6      67   \n10            Korolova_2_59     Petrov MM                   2      34   \n11            Korolova_2_60    Sidorov VK                   8      89   \n12            Korolova_2_61  Sidorchyk KM                   5      56   \n0                 Gogol_3_2  Ponomarov VD                   3      65   \n13  Malaya Arnautskaya_23_6      Kogan MG                   1      47   \n14  Malaya Arnautskaya_23_7  Polyakova MO                   1      56   \n\n   Privileges  Year_of_registration  Surplas  \n0         yes                  1976        0  \n1         yes                  1976       10  \n9         yes                  1987        0  \n10        yes                  1987        0  \n11        yes                  1987        0  \n12        yes                  1987        0  \n0         yes                  1976        0  \n13         no                  1954       26  \n14         no                  1954       35  ",
      "text/html": "<div>\n<style scoped>\n    .dataframe tbody tr th:only-of-type {\n        vertical-align: middle;\n    }\n\n    .dataframe tbody tr th {\n        vertical-align: top;\n    }\n\n    .dataframe thead th {\n        text-align: right;\n    }\n</style>\n<table border=\"1\" class=\"dataframe\">\n  <thead>\n    <tr style=\"text-align: right;\">\n      <th></th>\n      <th>Adress</th>\n      <th>Tenant</th>\n      <th>Quantity_of_people</th>\n      <th>Meters</th>\n      <th>Privileges</th>\n      <th>Year_of_registration</th>\n      <th>Surplas</th>\n    </tr>\n  </thead>\n  <tbody>\n    <tr>\n      <th>0</th>\n      <td>Gogol_3_2</td>\n      <td>Ponomarov VD</td>\n      <td>3</td>\n      <td>65</td>\n      <td>yes</td>\n      <td>1976</td>\n      <td>0</td>\n    </tr>\n    <tr>\n      <th>1</th>\n      <td>Gogol_3_3</td>\n      <td>Ponomarov AD</td>\n      <td>7</td>\n      <td>167</td>\n      <td>yes</td>\n      <td>1976</td>\n      <td>10</td>\n    </tr>\n    <tr>\n      <th>9</th>\n      <td>Korolova_2_58</td>\n      <td>Shatrov IV</td>\n      <td>6</td>\n      <td>67</td>\n      <td>yes</td>\n      <td>1987</td>\n      <td>0</td>\n    </tr>\n    <tr>\n      <th>10</th>\n      <td>Korolova_2_59</td>\n      <td>Petrov MM</td>\n      <td>2</td>\n      <td>34</td>\n      <td>yes</td>\n      <td>1987</td>\n      <td>0</td>\n    </tr>\n    <tr>\n      <th>11</th>\n      <td>Korolova_2_60</td>\n      <td>Sidorov VK</td>\n      <td>8</td>\n      <td>89</td>\n      <td>yes</td>\n      <td>1987</td>\n      <td>0</td>\n    </tr>\n    <tr>\n      <th>12</th>\n      <td>Korolova_2_61</td>\n      <td>Sidorchyk KM</td>\n      <td>5</td>\n      <td>56</td>\n      <td>yes</td>\n      <td>1987</td>\n      <td>0</td>\n    </tr>\n    <tr>\n      <th>0</th>\n      <td>Gogol_3_2</td>\n      <td>Ponomarov VD</td>\n      <td>3</td>\n      <td>65</td>\n      <td>yes</td>\n      <td>1976</td>\n      <td>0</td>\n    </tr>\n    <tr>\n      <th>13</th>\n      <td>Malaya Arnautskaya_23_6</td>\n      <td>Kogan MG</td>\n      <td>1</td>\n      <td>47</td>\n      <td>no</td>\n      <td>1954</td>\n      <td>26</td>\n    </tr>\n    <tr>\n      <th>14</th>\n      <td>Malaya Arnautskaya_23_7</td>\n      <td>Polyakova MO</td>\n      <td>1</td>\n      <td>56</td>\n      <td>no</td>\n      <td>1954</td>\n      <td>35</td>\n    </tr>\n  </tbody>\n</table>\n</div>"
     },
     "execution_count": 10,
     "metadata": {},
     "output_type": "execute_result"
    }
   ],
   "source": [
    "#task 6\n",
    "dt6_first_cond = dt1.loc[dt1['Surplas'] != ' ']\n",
    "dt6_second_cond = df.loc[(df['Meters'] < 100) & (df['Year_of_registration'] < 1977)]\n",
    "result = pd.concat([dt6_first_cond, dt6_second_cond], join = 'outer')\n",
    "result"
   ]
  },
  {
   "cell_type": "code",
   "execution_count": 11,
   "metadata": {
    "pycharm": {
     "name": "#%%\n"
    }
   },
   "outputs": [
    {
     "data": {
      "text/plain": "             Adress        Tenant  Quantity_of_people  Meters Privileges  \\\n4         Gogol_3_6    Komarov II                   2     100         no   \n6  Grecheskaya_1_45   Abramyan LL                   6     234         no   \n7     Korolova_2_56     Ivanov II                   3     145         no   \n1         Gogol_3_3  Ponomarov AD                   7     167        yes   \n7     Korolova_2_56     Ivanov II                   3     145         no   \n\n   Year_of_registration  Surplas  \n4                  2007       58  \n6                  2015       98  \n7                  1987       72  \n1                  1976       10  \n7                  1987       72  ",
      "text/html": "<div>\n<style scoped>\n    .dataframe tbody tr th:only-of-type {\n        vertical-align: middle;\n    }\n\n    .dataframe tbody tr th {\n        vertical-align: top;\n    }\n\n    .dataframe thead th {\n        text-align: right;\n    }\n</style>\n<table border=\"1\" class=\"dataframe\">\n  <thead>\n    <tr style=\"text-align: right;\">\n      <th></th>\n      <th>Adress</th>\n      <th>Tenant</th>\n      <th>Quantity_of_people</th>\n      <th>Meters</th>\n      <th>Privileges</th>\n      <th>Year_of_registration</th>\n      <th>Surplas</th>\n    </tr>\n  </thead>\n  <tbody>\n    <tr>\n      <th>4</th>\n      <td>Gogol_3_6</td>\n      <td>Komarov II</td>\n      <td>2</td>\n      <td>100</td>\n      <td>no</td>\n      <td>2007</td>\n      <td>58</td>\n    </tr>\n    <tr>\n      <th>6</th>\n      <td>Grecheskaya_1_45</td>\n      <td>Abramyan LL</td>\n      <td>6</td>\n      <td>234</td>\n      <td>no</td>\n      <td>2015</td>\n      <td>98</td>\n    </tr>\n    <tr>\n      <th>7</th>\n      <td>Korolova_2_56</td>\n      <td>Ivanov II</td>\n      <td>3</td>\n      <td>145</td>\n      <td>no</td>\n      <td>1987</td>\n      <td>72</td>\n    </tr>\n    <tr>\n      <th>1</th>\n      <td>Gogol_3_3</td>\n      <td>Ponomarov AD</td>\n      <td>7</td>\n      <td>167</td>\n      <td>yes</td>\n      <td>1976</td>\n      <td>10</td>\n    </tr>\n    <tr>\n      <th>7</th>\n      <td>Korolova_2_56</td>\n      <td>Ivanov II</td>\n      <td>3</td>\n      <td>145</td>\n      <td>no</td>\n      <td>1987</td>\n      <td>72</td>\n    </tr>\n  </tbody>\n</table>\n</div>"
     },
     "execution_count": 11,
     "metadata": {},
     "output_type": "execute_result"
    }
   ],
   "source": [
    "#task 7\n",
    "dt7_first_cond = df.loc[(df['Privileges'] == 'no') & (df['Surplas'] > 50)]\n",
    "dt7_second_cond = dt3.loc[(dt3['Year_of_registration'] >= 1970) & (dt3['Year_of_registration'] <= 1990)]\n",
    "dt7_res = pd.concat([dt7_first_cond, dt7_second_cond], join = 'outer')\n",
    "dt7_res"
   ]
  },
  {
   "cell_type": "code",
   "execution_count": 12,
   "metadata": {
    "pycharm": {
     "name": "#%%\n"
    }
   },
   "outputs": [
    {
     "data": {
      "text/plain": "             Adress        Tenant  Quantity_of_people  Meters Privileges  \\\n1         Gogol_3_3  Ponomarov AD                   7     167        yes   \n3         Gogol_3_5   Budanova AI                   7     189         no   \n5         Gogol_3_7    Komarov DP                   5     134         no   \n6  Grecheskaya_1_45   Abramyan LL                   6     234         no   \n7     Korolova_2_56     Ivanov II                   3     145         no   \n\n   Year_of_registration  Surplas  \n1                  1976       10  \n3                  2009       32  \n5                  2007       19  \n6                  2015       98  \n7                  1987       72  ",
      "text/html": "<div>\n<style scoped>\n    .dataframe tbody tr th:only-of-type {\n        vertical-align: middle;\n    }\n\n    .dataframe tbody tr th {\n        vertical-align: top;\n    }\n\n    .dataframe thead th {\n        text-align: right;\n    }\n</style>\n<table border=\"1\" class=\"dataframe\">\n  <thead>\n    <tr style=\"text-align: right;\">\n      <th></th>\n      <th>Adress</th>\n      <th>Tenant</th>\n      <th>Quantity_of_people</th>\n      <th>Meters</th>\n      <th>Privileges</th>\n      <th>Year_of_registration</th>\n      <th>Surplas</th>\n    </tr>\n  </thead>\n  <tbody>\n    <tr>\n      <th>1</th>\n      <td>Gogol_3_3</td>\n      <td>Ponomarov AD</td>\n      <td>7</td>\n      <td>167</td>\n      <td>yes</td>\n      <td>1976</td>\n      <td>10</td>\n    </tr>\n    <tr>\n      <th>3</th>\n      <td>Gogol_3_5</td>\n      <td>Budanova AI</td>\n      <td>7</td>\n      <td>189</td>\n      <td>no</td>\n      <td>2009</td>\n      <td>32</td>\n    </tr>\n    <tr>\n      <th>5</th>\n      <td>Gogol_3_7</td>\n      <td>Komarov DP</td>\n      <td>5</td>\n      <td>134</td>\n      <td>no</td>\n      <td>2007</td>\n      <td>19</td>\n    </tr>\n    <tr>\n      <th>6</th>\n      <td>Grecheskaya_1_45</td>\n      <td>Abramyan LL</td>\n      <td>6</td>\n      <td>234</td>\n      <td>no</td>\n      <td>2015</td>\n      <td>98</td>\n    </tr>\n    <tr>\n      <th>7</th>\n      <td>Korolova_2_56</td>\n      <td>Ivanov II</td>\n      <td>3</td>\n      <td>145</td>\n      <td>no</td>\n      <td>1987</td>\n      <td>72</td>\n    </tr>\n  </tbody>\n</table>\n</div>"
     },
     "execution_count": 12,
     "metadata": {},
     "output_type": "execute_result"
    }
   ],
   "source": [
    "#task 3\n",
    "dt3 = df.loc[df['Meters'] > 100]\n",
    "dt3"
   ]
  },
  {
   "cell_type": "code",
   "execution_count": 13,
   "metadata": {
    "pycharm": {
     "name": "#%%\n"
    }
   },
   "outputs": [
    {
     "data": {
      "text/plain": "           Adress        Tenant  Quantity_of_people  Meters Privileges  \\\n0       Gogol_3_2  Ponomarov VD                   3      65        yes   \n1       Gogol_3_3  Ponomarov AD                   7     167        yes   \n7   Korolova_2_56     Ivanov II                   3     145         no   \n8   Korolova_2_57     Ivanov PI                   3      89         no   \n9   Korolova_2_58    Shatrov IV                   6      67        yes   \n10  Korolova_2_59     Petrov MM                   2      34        yes   \n11  Korolova_2_60    Sidorov VK                   8      89        yes   \n12  Korolova_2_61  Sidorchyk KM                   5      56        yes   \n\n    Year_of_registration  Surplas  \n0                   1976        0  \n1                   1976       10  \n7                   1987       72  \n8                   1987       16  \n9                   1987        0  \n10                  1987        0  \n11                  1987        0  \n12                  1987        0  ",
      "text/html": "<div>\n<style scoped>\n    .dataframe tbody tr th:only-of-type {\n        vertical-align: middle;\n    }\n\n    .dataframe tbody tr th {\n        vertical-align: top;\n    }\n\n    .dataframe thead th {\n        text-align: right;\n    }\n</style>\n<table border=\"1\" class=\"dataframe\">\n  <thead>\n    <tr style=\"text-align: right;\">\n      <th></th>\n      <th>Adress</th>\n      <th>Tenant</th>\n      <th>Quantity_of_people</th>\n      <th>Meters</th>\n      <th>Privileges</th>\n      <th>Year_of_registration</th>\n      <th>Surplas</th>\n    </tr>\n  </thead>\n  <tbody>\n    <tr>\n      <th>0</th>\n      <td>Gogol_3_2</td>\n      <td>Ponomarov VD</td>\n      <td>3</td>\n      <td>65</td>\n      <td>yes</td>\n      <td>1976</td>\n      <td>0</td>\n    </tr>\n    <tr>\n      <th>1</th>\n      <td>Gogol_3_3</td>\n      <td>Ponomarov AD</td>\n      <td>7</td>\n      <td>167</td>\n      <td>yes</td>\n      <td>1976</td>\n      <td>10</td>\n    </tr>\n    <tr>\n      <th>7</th>\n      <td>Korolova_2_56</td>\n      <td>Ivanov II</td>\n      <td>3</td>\n      <td>145</td>\n      <td>no</td>\n      <td>1987</td>\n      <td>72</td>\n    </tr>\n    <tr>\n      <th>8</th>\n      <td>Korolova_2_57</td>\n      <td>Ivanov PI</td>\n      <td>3</td>\n      <td>89</td>\n      <td>no</td>\n      <td>1987</td>\n      <td>16</td>\n    </tr>\n    <tr>\n      <th>9</th>\n      <td>Korolova_2_58</td>\n      <td>Shatrov IV</td>\n      <td>6</td>\n      <td>67</td>\n      <td>yes</td>\n      <td>1987</td>\n      <td>0</td>\n    </tr>\n    <tr>\n      <th>10</th>\n      <td>Korolova_2_59</td>\n      <td>Petrov MM</td>\n      <td>2</td>\n      <td>34</td>\n      <td>yes</td>\n      <td>1987</td>\n      <td>0</td>\n    </tr>\n    <tr>\n      <th>11</th>\n      <td>Korolova_2_60</td>\n      <td>Sidorov VK</td>\n      <td>8</td>\n      <td>89</td>\n      <td>yes</td>\n      <td>1987</td>\n      <td>0</td>\n    </tr>\n    <tr>\n      <th>12</th>\n      <td>Korolova_2_61</td>\n      <td>Sidorchyk KM</td>\n      <td>5</td>\n      <td>56</td>\n      <td>yes</td>\n      <td>1987</td>\n      <td>0</td>\n    </tr>\n  </tbody>\n</table>\n</div>"
     },
     "execution_count": 13,
     "metadata": {},
     "output_type": "execute_result"
    }
   ],
   "source": [
    "#task 4\n",
    "dt4 = df.loc[df['Year_of_registration'] >= 1970]\n",
    "dt4_res = dt4.loc[dt4['Year_of_registration'] <= 1990]\n",
    "dt4_res"
   ]
  },
  {
   "cell_type": "code",
   "execution_count": 14,
   "metadata": {
    "pycharm": {
     "name": "#%%\n"
    }
   },
   "outputs": [
    {
     "data": {
      "text/plain": "           Adress        Tenant  Quantity_of_people  Meters Privileges  \\\n9   Korolova_2_58    Shatrov IV                   6      67        yes   \n10  Korolova_2_59     Petrov MM                   2      34        yes   \n11  Korolova_2_60    Sidorov VK                   8      89        yes   \n12  Korolova_2_61  Sidorchyk KM                   5      56        yes   \n\n    Year_of_registration  Surplas  \n9                   1987        0  \n10                  1987        0  \n11                  1987        0  \n12                  1987        0  ",
      "text/html": "<div>\n<style scoped>\n    .dataframe tbody tr th:only-of-type {\n        vertical-align: middle;\n    }\n\n    .dataframe tbody tr th {\n        vertical-align: top;\n    }\n\n    .dataframe thead th {\n        text-align: right;\n    }\n</style>\n<table border=\"1\" class=\"dataframe\">\n  <thead>\n    <tr style=\"text-align: right;\">\n      <th></th>\n      <th>Adress</th>\n      <th>Tenant</th>\n      <th>Quantity_of_people</th>\n      <th>Meters</th>\n      <th>Privileges</th>\n      <th>Year_of_registration</th>\n      <th>Surplas</th>\n    </tr>\n  </thead>\n  <tbody>\n    <tr>\n      <th>9</th>\n      <td>Korolova_2_58</td>\n      <td>Shatrov IV</td>\n      <td>6</td>\n      <td>67</td>\n      <td>yes</td>\n      <td>1987</td>\n      <td>0</td>\n    </tr>\n    <tr>\n      <th>10</th>\n      <td>Korolova_2_59</td>\n      <td>Petrov MM</td>\n      <td>2</td>\n      <td>34</td>\n      <td>yes</td>\n      <td>1987</td>\n      <td>0</td>\n    </tr>\n    <tr>\n      <th>11</th>\n      <td>Korolova_2_60</td>\n      <td>Sidorov VK</td>\n      <td>8</td>\n      <td>89</td>\n      <td>yes</td>\n      <td>1987</td>\n      <td>0</td>\n    </tr>\n    <tr>\n      <th>12</th>\n      <td>Korolova_2_61</td>\n      <td>Sidorchyk KM</td>\n      <td>5</td>\n      <td>56</td>\n      <td>yes</td>\n      <td>1987</td>\n      <td>0</td>\n    </tr>\n  </tbody>\n</table>\n</div>"
     },
     "execution_count": 14,
     "metadata": {},
     "output_type": "execute_result"
    }
   ],
   "source": [
    "#task 5\n",
    "dt5 = dt1.loc[dt1['Year_of_registration'] > 1980]\n",
    "dt5\n"
   ]
  }
 ],
 "metadata": {
  "kernelspec": {
   "display_name": "Python 3",
   "language": "python",
   "name": "python3"
  },
  "language_info": {
   "codemirror_mode": {
    "name": "ipython",
    "version": 3
   },
   "file_extension": ".py",
   "mimetype": "text/x-python",
   "name": "python",
   "nbconvert_exporter": "python",
   "pygments_lexer": "ipython3",
   "version": "3.8.5"
  }
 },
 "nbformat": 4,
 "nbformat_minor": 1
}